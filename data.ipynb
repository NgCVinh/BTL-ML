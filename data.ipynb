{
 "cells": [
  {
   "cell_type": "markdown",
   "metadata": {},
   "source": [
    "# 1.TAKING RAW_DATA FROM ERGAST BY USING API"
   ]
  },
  {
   "cell_type": "markdown",
   "metadata": {},
   "source": [
    "## 1.1 BASE URL "
   ]
  },
  {
   "cell_type": "code",
   "execution_count": 1,
   "metadata": {},
   "outputs": [],
   "source": [
    "import requests # type: ignore\n",
    "import json\n",
    "import pandas as pd\n",
    "import csv\n",
    "import numpy as np\n",
    "BASE_URL=\"http://ergast.com/api/f1\"\n",
    "\n",
    "   \n"
   ]
  },
  {
   "cell_type": "markdown",
   "metadata": {},
   "source": [
    "## 1.2 Result F1 match from 2020 to 2024"
   ]
  },
  {
   "cell_type": "code",
   "execution_count": 3,
   "metadata": {},
   "outputs": [],
   "source": [
    "DATA=[]\n",
    "for year in range(2020,2025):\n",
    "    for round in range(17):\n",
    "        try:\n",
    "            response=requests.get(f\"{BASE_URL}/{year}/{round}/results.json\")\n",
    "            if(response.status_code==200):\n",
    "                data=response.json() \n",
    "            DATA.append(data) \n",
    "            with open(f\"RAW_DATA/Result_F1_matches.json\", 'w', encoding='utf-8') as file:\n",
    "                json.dump(DATA, file, ensure_ascii=False, indent=4)\n",
    "        except requests.exceptions.Timeout:\n",
    "            print(\"Timeout error\")\n",
    "        except requests.RequestException as e:\n",
    "            print(f\"Request error: {e}\")"
   ]
  },
  {
   "cell_type": "markdown",
   "metadata": {},
   "source": [
    "## 1.3 Profile of F1 players"
   ]
  },
  {
   "cell_type": "code",
   "execution_count": 52,
   "metadata": {},
   "outputs": [],
   "source": [
    "DATA=[]\n",
    "for year in range(2020,2025):\n",
    "    try:\n",
    "        response=requests.get(f\"{BASE_URL}/{year}/drivers.json\")\n",
    "        if(response.status_code==200):\n",
    "            data=response.json()\n",
    "        DATA.append(data)  \n",
    "        with open(\"RAW_DATA/Profile_F1_players.json\", 'w', encoding='utf-8') as file:\n",
    "                json.dump(DATA, file, ensure_ascii=False, indent=4)\n",
    "    except requests.exceptions.Timeout:\n",
    "        print(\"Timeout error\")\n",
    "    except requests.RequestException as e:\n",
    "        print(f\"Request error: {e}\")"
   ]
  },
  {
   "cell_type": "markdown",
   "metadata": {},
   "source": [
    "## 1.4 Ranking F1 players each year"
   ]
  },
  {
   "cell_type": "code",
   "execution_count": null,
   "metadata": {},
   "outputs": [],
   "source": [
    "DATA=[]\n",
    "for year in range(2020,2025):\n",
    "    try:\n",
    "        response=requests.get(f\"{BASE_URL}/{year}/driverStandings.json\")\n",
    "        if(response.status_code==200):\n",
    "            data=response.json()\n",
    "        DATA.append(data)  \n",
    "        with open(f\"RAW_DATA/DriveStanding_F1_players.json\", 'w', encoding='utf-8') as file:\n",
    "            json.dump(DATA, file, ensure_ascii=False, indent=4)\n",
    "    except requests.exceptions.Timeout:\n",
    "        print(\"Timeout error\")\n",
    "    except requests.RequestException as e:\n",
    "        print(f\"Request error: {e}\")"
   ]
  },
  {
   "cell_type": "markdown",
   "metadata": {},
   "source": [
    "## 1.5 Pitstop information of each F1 player between 2020 and 2024"
   ]
  },
  {
   "cell_type": "code",
   "execution_count": null,
   "metadata": {},
   "outputs": [],
   "source": [
    "DATA=[]\n",
    "for year in range(2020,2025):\n",
    "    for round in range(17):\n",
    "        try:\n",
    "            response=requests.get(f\"{BASE_URL}/{year}/{round}/pitstops.json\")\n",
    "            if(response.status_code==200):\n",
    "                data=response.json() \n",
    "            DATA.append(data) \n",
    "            with open(f\"RAW_DATA/Pitstop.json\", 'w', encoding='utf-8') as file:\n",
    "                json.dump(DATA, file, ensure_ascii=False, indent=4)\n",
    "        except requests.exceptions.Timeout:\n",
    "            print(\"Timeout error\")\n",
    "        except requests.RequestException as e:\n",
    "            print(f\"Request error: {e}\")"
   ]
  },
  {
   "cell_type": "markdown",
   "metadata": {},
   "source": [
    "## 1.6 Qualifying Results of F1 player each season from 2020 to 2024"
   ]
  },
  {
   "cell_type": "code",
   "execution_count": null,
   "metadata": {},
   "outputs": [],
   "source": [
    "DATA=[]\n",
    "for year in range(2020,2025):\n",
    "    for round in range(17):\n",
    "        try:\n",
    "            response=requests.get(f\"{BASE_URL}/{year}/{round}/qualifying.json\")\n",
    "            if(response.status_code==200):\n",
    "                data=response.json() \n",
    "            DATA.append(data) \n",
    "            with open(f\"RAW_DATA/Qualifying_information.json\", 'w', encoding='utf-8') as file:\n",
    "                json.dump(DATA, file, ensure_ascii=False, indent=4)\n",
    "        except requests.exceptions.Timeout:\n",
    "            print(\"Timeout error\")\n",
    "        except requests.RequestException as e:\n",
    "            print(f\"Request error: {e}\")"
   ]
  },
  {
   "cell_type": "markdown",
   "metadata": {},
   "source": [
    "# 2.GETTING RAW DATA"
   ]
  },
  {
   "cell_type": "code",
   "execution_count": 2,
   "metadata": {},
   "outputs": [],
   "source": [
    "with open(f\"RAW_DATA/Result_F1_matches.json\", \"r\") as json_file:\n",
    "        result_data = json.load(json_file)  "
   ]
  },
  {
   "cell_type": "code",
   "execution_count": 3,
   "metadata": {},
   "outputs": [],
   "source": [
    "with open(\"RAW_DATA/Profile_F1_players.json\", \"r\") as json_file:\n",
    "        player_data = json.load(json_file) "
   ]
  },
  {
   "cell_type": "code",
   "execution_count": 4,
   "metadata": {},
   "outputs": [],
   "source": [
    "with open(f\"RAW_DATA/DriveStanding_F1_players.json\", \"r\") as json_file:\n",
    "        driveStanding_data=json.load(json_file)"
   ]
  },
  {
   "cell_type": "code",
   "execution_count": 5,
   "metadata": {},
   "outputs": [],
   "source": [
    "with open(f\"RAW_DATA/Pitstop.json\", \"r\") as json_file:\n",
    "        pitstop_data = json.load(json_file) "
   ]
  },
  {
   "cell_type": "code",
   "execution_count": 6,
   "metadata": {},
   "outputs": [],
   "source": [
    "with open(f\"RAW_DATA/Qualifying_information.json\", \"r\") as json_file:\n",
    "        qualifying_data = json.load(json_file) "
   ]
  },
  {
   "cell_type": "markdown",
   "metadata": {},
   "source": [
    "# 3.DATA PREPROCESSING"
   ]
  },
  {
   "cell_type": "markdown",
   "metadata": {},
   "source": [
    "## 3.1 Some information about drivers and constructors"
   ]
  },
  {
   "cell_type": "code",
   "execution_count": 7,
   "metadata": {},
   "outputs": [
    {
     "name": "stdout",
     "output_type": "stream",
     "text": [
      "                   ID\n",
      "0              aitken\n",
      "1            hamilton\n",
      "2              alonso\n",
      "3                zhou\n",
      "4              kubica\n",
      "5             piastri\n",
      "6              vettel\n",
      "7               gasly\n",
      "8              stroll\n",
      "9          hulkenberg\n",
      "10              kvyat\n",
      "11         giovinazzi\n",
      "12            mazepin\n",
      "13            tsunoda\n",
      "14               ocon\n",
      "15    kevin_magnussen\n",
      "16              sainz\n",
      "17  pietro_fittipaldi\n",
      "18             norris\n",
      "19             latifi\n",
      "20            leclerc\n",
      "21            bearman\n",
      "22           grosjean\n",
      "23           sargeant\n",
      "24    mick_schumacher\n",
      "25     max_verstappen\n",
      "26          colapinto\n",
      "27             bottas\n",
      "28           de_vries\n",
      "29              albon\n",
      "30          raikkonen\n",
      "31             lawson\n",
      "32          ricciardo\n",
      "33            russell\n",
      "34              perez\n"
     ]
    }
   ],
   "source": [
    "\n",
    "List_driver=set()\n",
    "columns=[\"ID\"]\n",
    "for information in player_data:\n",
    "    for detail in information[\"MRData\"][\"DriverTable\"][\"Drivers\"]:\n",
    "        List_driver.add(detail[\"driverId\"])\n",
    "List_driver_table=pd.DataFrame(List_driver,columns=columns)\n",
    "List_driver_table.to_csv(\"CLEAN_DATA/List_driver.csv\",index=False, encoding='utf-8')\n",
    "print(List_driver_table)"
   ]
  },
  {
   "cell_type": "code",
   "execution_count": 8,
   "metadata": {},
   "outputs": [
    {
     "name": "stdout",
     "output_type": "stream",
     "text": [
      "{'haas', 'alphatauri', 'alfa', 'racing_point', 'mclaren', 'williams', 'aston_martin', 'mercedes', 'alpine', 'renault', 'rb', 'sauber', 'red_bull', 'ferrari'}\n"
     ]
    }
   ],
   "source": [
    "List_of_constructor=set()\n",
    "for information in result_data:\n",
    "    for detail in information[\"MRData\"][\"RaceTable\"][\"Races\"]:\n",
    "        result=detail[\"Results\"]\n",
    "        for i in range(len(result)):\n",
    "            List_of_constructor.add(result[i][\"Constructor\"][\"constructorId\"])\n",
    "print(List_of_constructor)"
   ]
  },
  {
   "cell_type": "code",
   "execution_count": 9,
   "metadata": {},
   "outputs": [
    {
     "name": "stdout",
     "output_type": "stream",
     "text": [
      "   ConstructorId\n",
      "0           haas\n",
      "1     alphatauri\n",
      "2           alfa\n",
      "3   racing_point\n",
      "4        mclaren\n",
      "5       williams\n",
      "6   aston_martin\n",
      "7       mercedes\n",
      "8         alpine\n",
      "9        renault\n",
      "10            rb\n",
      "11        sauber\n",
      "12      red_bull\n",
      "13       ferrari\n"
     ]
    }
   ],
   "source": [
    "Constructor_table=pd.DataFrame(List_of_constructor,columns=[\"ConstructorId\"])\n",
    "Constructor_table.to_csv(\"CLEAN_DATA/List_constructor.csv\",index=False, encoding='utf-8')\n",
    "print(Constructor_table)"
   ]
  },
  {
   "cell_type": "markdown",
   "metadata": {},
   "source": [
    "## 3.2 Driver Ranking"
   ]
  },
  {
   "cell_type": "code",
   "execution_count": 10,
   "metadata": {},
   "outputs": [],
   "source": [
    "total_point={}\n",
    "for information in driveStanding_data:\n",
    "    for detail in information[\"MRData\"][\"StandingsTable\"][\"StandingsLists\"]:\n",
    "        season=detail[\"season\"]\n",
    "        for i in range(len(detail[\"DriverStandings\"])):\n",
    "             total_point[detail[\"DriverStandings\"][i][\"Driver\"][\"driverId\"],season]=[detail[\"DriverStandings\"][i][\"points\"],detail[\"DriverStandings\"][i][\"wins\"]]\n",
    "list_total_point=[[],[],[],[],[]]\n",
    "for key, value in total_point.items():\n",
    "    list_total_point[int(key[1])-2020].append([key[0],key[1],value[0],value[1]])\n",
    "column=[\"DriverID\",\"Year\",\"Score\",\"Win\"]\n",
    "for index in range(len(list_total_point)):\n",
    "    with open(\"CLEAN_DATA/Rank_driver.csv\", mode=\"a\", encoding=\"utf-8\", newline=\"\") as file:\n",
    "        writer = csv.writer(file)\n",
    "        writer.writerows(list_total_point[index]) \n",
    "\n",
    "        "
   ]
  },
  {
   "cell_type": "code",
   "execution_count": 11,
   "metadata": {},
   "outputs": [
    {
     "name": "stdout",
     "output_type": "stream",
     "text": [
      "             DriverID  Year Score Win\n",
      "0            hamilton  2020   347  11\n",
      "1              bottas  2020   223   2\n",
      "2      max_verstappen  2020   214   2\n",
      "3               perez  2020   125   1\n",
      "4           ricciardo  2020   119   0\n",
      "5               sainz  2020   105   0\n",
      "6               albon  2020   105   0\n",
      "7             leclerc  2020    98   0\n",
      "8              norris  2020    97   0\n",
      "9               gasly  2020    75   1\n",
      "10             stroll  2020    75   0\n",
      "11               ocon  2020    62   0\n",
      "12             vettel  2020    33   0\n",
      "13              kvyat  2020    32   0\n",
      "14         hulkenberg  2020    10   0\n",
      "15          raikkonen  2020     4   0\n",
      "16         giovinazzi  2020     4   0\n",
      "17            russell  2020     3   0\n",
      "18           grosjean  2020     2   0\n",
      "19    kevin_magnussen  2020     1   0\n",
      "20             latifi  2020     0   0\n",
      "21             aitken  2020     0   0\n",
      "22  pietro_fittipaldi  2020     0   0\n"
     ]
    }
   ],
   "source": [
    "Total_point_table_0=pd.DataFrame(list_total_point[0],columns=column)\n",
    "sum_score_2020=[]\n",
    "for index in range(len(list_total_point[0])):\n",
    "    sum_score_2020.append(float(list_total_point[0][index][2]))\n",
    "median_score_2020=np.median(sum_score_2020)\n",
    "print(Total_point_table_0)  "
   ]
  },
  {
   "cell_type": "code",
   "execution_count": 12,
   "metadata": {},
   "outputs": [
    {
     "name": "stdout",
     "output_type": "stream",
     "text": [
      "           DriverID  Year  Score Win\n",
      "0    max_verstappen  2021  395.5  10\n",
      "1          hamilton  2021  387.5   8\n",
      "2            bottas  2021    226   1\n",
      "3             perez  2021    190   1\n",
      "4             sainz  2021  164.5   0\n",
      "5            norris  2021    160   0\n",
      "6           leclerc  2021    159   0\n",
      "7         ricciardo  2021    115   1\n",
      "8             gasly  2021    110   0\n",
      "9            alonso  2021     81   0\n",
      "10             ocon  2021     74   1\n",
      "11           vettel  2021     43   0\n",
      "12           stroll  2021     34   0\n",
      "13          tsunoda  2021     32   0\n",
      "14          russell  2021     16   0\n",
      "15        raikkonen  2021     10   0\n",
      "16           latifi  2021      7   0\n",
      "17       giovinazzi  2021      3   0\n",
      "18  mick_schumacher  2021      0   0\n",
      "19           kubica  2021      0   0\n",
      "20          mazepin  2021      0   0\n"
     ]
    }
   ],
   "source": [
    "Total_point_table_1=pd.DataFrame(list_total_point[1],columns=column)\n",
    "sum_score_2021=[]\n",
    "for index in range(len(list_total_point[1])):\n",
    "    sum_score_2021.append(float(list_total_point[1][index][2]))\n",
    "median_score_2021=np.median(sum_score_2021)\n",
    "print(Total_point_table_1)  "
   ]
  },
  {
   "cell_type": "code",
   "execution_count": 13,
   "metadata": {},
   "outputs": [
    {
     "name": "stdout",
     "output_type": "stream",
     "text": [
      "37.0\n",
      "           DriverID  Year Score Win\n",
      "0    max_verstappen  2022   454  15\n",
      "1           leclerc  2022   308   3\n",
      "2             perez  2022   305   2\n",
      "3           russell  2022   275   1\n",
      "4             sainz  2022   246   1\n",
      "5          hamilton  2022   240   0\n",
      "6            norris  2022   122   0\n",
      "7              ocon  2022    92   0\n",
      "8            alonso  2022    81   0\n",
      "9            bottas  2022    49   0\n",
      "10        ricciardo  2022    37   0\n",
      "11           vettel  2022    37   0\n",
      "12  kevin_magnussen  2022    25   0\n",
      "13            gasly  2022    23   0\n",
      "14           stroll  2022    18   0\n",
      "15  mick_schumacher  2022    12   0\n",
      "16          tsunoda  2022    12   0\n",
      "17             zhou  2022     6   0\n",
      "18            albon  2022     4   0\n",
      "19           latifi  2022     2   0\n",
      "20         de_vries  2022     2   0\n",
      "21       hulkenberg  2022     0   0\n"
     ]
    }
   ],
   "source": [
    "\n",
    "Total_point_table_2=pd.DataFrame(list_total_point[2],columns=column)\n",
    "sum_score_2022=[]\n",
    "for index in range(len(list_total_point[2])):\n",
    "    sum_score_2022.append(float(list_total_point[2][index][2]))\n",
    "median_score_2022=np.median(sum_score_2022)\n",
    "print(median_score_2022)\n",
    "print(Total_point_table_2)  "
   ]
  },
  {
   "cell_type": "code",
   "execution_count": 14,
   "metadata": {},
   "outputs": [
    {
     "name": "stdout",
     "output_type": "stream",
     "text": [
      "60.0\n",
      "           DriverID  Year Score Win\n",
      "0    max_verstappen  2023   575  19\n",
      "1             perez  2023   285   2\n",
      "2          hamilton  2023   234   0\n",
      "3            alonso  2023   206   0\n",
      "4           leclerc  2023   206   0\n",
      "5            norris  2023   205   0\n",
      "6             sainz  2023   200   1\n",
      "7           russell  2023   175   0\n",
      "8           piastri  2023    97   0\n",
      "9            stroll  2023    74   0\n",
      "10            gasly  2023    62   0\n",
      "11             ocon  2023    58   0\n",
      "12            albon  2023    27   0\n",
      "13          tsunoda  2023    17   0\n",
      "14           bottas  2023    10   0\n",
      "15       hulkenberg  2023     9   0\n",
      "16        ricciardo  2023     6   0\n",
      "17             zhou  2023     6   0\n",
      "18  kevin_magnussen  2023     3   0\n",
      "19           lawson  2023     2   0\n",
      "20         sargeant  2023     1   0\n",
      "21         de_vries  2023     0   0\n"
     ]
    }
   ],
   "source": [
    "\n",
    "Total_point_table_3=pd.DataFrame(list_total_point[3],columns=column)\n",
    "sum_score_2023=[]\n",
    "for index in range(len(list_total_point[3])):\n",
    "    sum_score_2023.append(float(list_total_point[3][index][2]))\n",
    "median_score_2023=np.median(sum_score_2023)\n",
    "print(median_score_2023)\n",
    "print(Total_point_table_3)  "
   ]
  },
  {
   "cell_type": "code",
   "execution_count": 15,
   "metadata": {},
   "outputs": [
    {
     "name": "stdout",
     "output_type": "stream",
     "text": [
      "26.0\n",
      "           DriverID  Year Score Win\n",
      "0    max_verstappen  2024   403   8\n",
      "1            norris  2024   340   3\n",
      "2           leclerc  2024   319   3\n",
      "3           piastri  2024   268   2\n",
      "4             sainz  2024   259   2\n",
      "5           russell  2024   217   2\n",
      "6          hamilton  2024   208   2\n",
      "7             perez  2024   152   0\n",
      "8            alonso  2024    62   0\n",
      "9        hulkenberg  2024    35   0\n",
      "10          tsunoda  2024    30   0\n",
      "11            gasly  2024    26   0\n",
      "12           stroll  2024    24   0\n",
      "13             ocon  2024    23   0\n",
      "14  kevin_magnussen  2024    14   0\n",
      "15            albon  2024    12   0\n",
      "16        ricciardo  2024    12   0\n",
      "17          bearman  2024     7   0\n",
      "18        colapinto  2024     5   0\n",
      "19           lawson  2024     4   0\n",
      "20             zhou  2024     0   0\n",
      "21         sargeant  2024     0   0\n",
      "22           bottas  2024     0   0\n"
     ]
    }
   ],
   "source": [
    "\n",
    "Total_point_table_4=pd.DataFrame(list_total_point[4],columns=column)\n",
    "sum_score_2024=[]\n",
    "for index in range(len(list_total_point[4])):\n",
    "    sum_score_2024.append(float(list_total_point[4][index][2]))\n",
    "median_score_2024=np.median(sum_score_2024)\n",
    "print(median_score_2024)\n",
    "print(Total_point_table_4)  "
   ]
  },
  {
   "cell_type": "markdown",
   "metadata": {},
   "source": [
    "## 3.3 Score of driver per round in each season"
   ]
  },
  {
   "cell_type": "code",
   "execution_count": 16,
   "metadata": {},
   "outputs": [],
   "source": [
    "result_per_round={}\n",
    "for information in result_data:\n",
    "    for detail in information[\"MRData\"][\"RaceTable\"][\"Races\"]:\n",
    "        round=detail[\"round\"]\n",
    "        season=detail[\"season\"]\n",
    "        for result in detail[\"Results\"]:\n",
    "            point=result[\"points\"]\n",
    "            constructorID=result[\"Constructor\"][\"constructorId\"]\n",
    "            result_per_round[(result[\"Driver\"][\"driverId\"],round,season)]=[constructorID,point]\n",
    "list_result_point=[[],[],[],[],[]]\n",
    "for key, value in result_per_round.items():\n",
    "    list_result_point[int(key[2])-2020].append([key[0],key[1],key[2],value[0],value[1]])\n",
    "column=[\"DriverID\",\"Round\",\"Season\",\"Constructor\",\"Score\"]\n",
    "for index in range(len(list_result_point)):\n",
    "    with open(\"CLEAN_DATA/Score_of_driver.csv\", mode=\"a\", encoding=\"utf-8\", newline=\"\") as file:\n",
    "        writer = csv.writer(file)\n",
    "        writer.writerows(list_result_point[index]) \n",
    "\n"
   ]
  },
  {
   "cell_type": "code",
   "execution_count": 17,
   "metadata": {},
   "outputs": [
    {
     "name": "stdout",
     "output_type": "stream",
     "text": [
      "              DriverID Round Season Constructor Score\n",
      "0               bottas     1   2020    mercedes    25\n",
      "1              leclerc     1   2020     ferrari    18\n",
      "2               norris     1   2020     mclaren    16\n",
      "3             hamilton     1   2020    mercedes    12\n",
      "4                sainz     1   2020     mclaren    10\n",
      "..                 ...   ...    ...         ...   ...\n",
      "315             aitken    16   2020    williams     0\n",
      "316  pietro_fittipaldi    16   2020        haas     0\n",
      "317             latifi    16   2020    williams     0\n",
      "318     max_verstappen    16   2020    red_bull     0\n",
      "319            leclerc    16   2020     ferrari     0\n",
      "\n",
      "[320 rows x 5 columns]\n"
     ]
    }
   ],
   "source": [
    "Total_result_table=pd.DataFrame(list_result_point[0],columns=column)\n",
    "print(Total_result_table) \n"
   ]
  },
  {
   "cell_type": "code",
   "execution_count": 18,
   "metadata": {},
   "outputs": [
    {
     "name": "stdout",
     "output_type": "stream",
     "text": [
      "            DriverID Round Season   Constructor Score\n",
      "0           hamilton     1   2021      mercedes    25\n",
      "1     max_verstappen     1   2021      red_bull    18\n",
      "2             bottas     1   2021      mercedes    16\n",
      "3             norris     1   2021       mclaren    12\n",
      "4              perez     1   2021      red_bull    10\n",
      "..               ...   ...    ...           ...   ...\n",
      "315           alonso    16   2021        alpine     0\n",
      "316           latifi    16   2021      williams     0\n",
      "317           vettel    16   2021  aston_martin     0\n",
      "318  mick_schumacher    16   2021          haas     0\n",
      "319          mazepin    16   2021          haas     0\n",
      "\n",
      "[320 rows x 5 columns]\n"
     ]
    }
   ],
   "source": [
    "Total_result_table=pd.DataFrame(list_result_point[1],columns=column)\n",
    "print(Total_result_table) "
   ]
  },
  {
   "cell_type": "code",
   "execution_count": 19,
   "metadata": {},
   "outputs": [
    {
     "name": "stdout",
     "output_type": "stream",
     "text": [
      "            DriverID Round Season   Constructor Score\n",
      "0            leclerc     1   2022       ferrari    26\n",
      "1              sainz     1   2022       ferrari    18\n",
      "2           hamilton     1   2022      mercedes    15\n",
      "3            russell     1   2022      mercedes    12\n",
      "4    kevin_magnussen     1   2022          haas    10\n",
      "..               ...   ...    ...           ...   ...\n",
      "315  kevin_magnussen    16   2022          haas     0\n",
      "316        ricciardo    16   2022       mclaren     0\n",
      "317           stroll    16   2022  aston_martin     0\n",
      "318           alonso    16   2022        alpine     0\n",
      "319           vettel    16   2022  aston_martin     0\n",
      "\n",
      "[320 rows x 5 columns]\n"
     ]
    }
   ],
   "source": [
    "Total_result_table=pd.DataFrame(list_result_point[2],columns=column)\n",
    "print(Total_result_table) "
   ]
  },
  {
   "cell_type": "code",
   "execution_count": 20,
   "metadata": {},
   "outputs": [
    {
     "name": "stdout",
     "output_type": "stream",
     "text": [
      "           DriverID Round Season   Constructor Score\n",
      "0    max_verstappen     1   2023      red_bull    25\n",
      "1             perez     1   2023      red_bull    18\n",
      "2            alonso     1   2023  aston_martin    15\n",
      "3             sainz     1   2023       ferrari    12\n",
      "4          hamilton     1   2023      mercedes    10\n",
      "..              ...   ...    ...           ...   ...\n",
      "315           albon    16   2023      williams     0\n",
      "316        sargeant    16   2023      williams     0\n",
      "317          stroll    16   2023  aston_martin     0\n",
      "318           perez    16   2023      red_bull     0\n",
      "319          bottas    16   2023          alfa     0\n",
      "\n",
      "[320 rows x 5 columns]\n"
     ]
    }
   ],
   "source": [
    "Total_result_table=pd.DataFrame(list_result_point[3],columns=column)\n",
    "print(Total_result_table) "
   ]
  },
  {
   "cell_type": "code",
   "execution_count": 21,
   "metadata": {},
   "outputs": [
    {
     "name": "stdout",
     "output_type": "stream",
     "text": [
      "           DriverID Round Season   Constructor Score\n",
      "0    max_verstappen     1   2024      red_bull    26\n",
      "1             perez     1   2024      red_bull    18\n",
      "2             sainz     1   2024       ferrari    15\n",
      "3           leclerc     1   2024       ferrari    12\n",
      "4           russell     1   2024      mercedes    10\n",
      "..              ...   ...    ...           ...   ...\n",
      "314          bottas    16   2024        sauber     0\n",
      "315      hulkenberg    16   2024          haas     0\n",
      "316            zhou    16   2024        sauber     0\n",
      "317          stroll    16   2024  aston_martin     0\n",
      "318         tsunoda    16   2024            rb     0\n",
      "\n",
      "[319 rows x 5 columns]\n"
     ]
    }
   ],
   "source": [
    "Total_result_table=pd.DataFrame(list_result_point[4],columns=column)\n",
    "print(Total_result_table) "
   ]
  },
  {
   "cell_type": "markdown",
   "metadata": {},
   "source": [
    "## 3.4 Pitstop of each player "
   ]
  },
  {
   "cell_type": "code",
   "execution_count": 22,
   "metadata": {},
   "outputs": [],
   "source": [
    "pitstop_result={}\n",
    "for information in pitstop_data:\n",
    "    for detail in information[\"MRData\"][\"RaceTable\"][\"Races\"]:\n",
    "        season=detail[\"season\"]\n",
    "        round=detail[\"round\"]\n",
    "        for i in range(len(detail[\"PitStops\"])):\n",
    "            stop=detail[\"PitStops\"][i][\"stop\"]\n",
    "            time=detail[\"PitStops\"][i][\"time\"]\n",
    "            duration=detail[\"PitStops\"][i][\"duration\"]\n",
    "            lap=detail[\"PitStops\"][i][\"lap\"]\n",
    "            pitstop_result[(detail[\"PitStops\"][i][\"driverId\"],season,round)]=[stop,lap,time,duration]\n"
   ]
  },
  {
   "cell_type": "code",
   "execution_count": 23,
   "metadata": {},
   "outputs": [],
   "source": [
    "list_pitstop_point=[[],[],[],[],[]]\n",
    "for key, value in pitstop_result.items():\n",
    "    list_pitstop_point[int(key[1])-2020].append([key[0],key[1],key[2],value[0],value[1],value[2],value[3]])\n",
    "column=[\"DriverId\",\"Year\",\"Round\",\"Stop\",\"Lap\",\"Time\",\"Duration\"]\n",
    "\n",
    "for index in range(len(list_pitstop_point)):\n",
    "    with open(\"CLEAN_DATA/Pitstop_information.csv\", mode=\"a\", encoding=\"utf-8\", newline=\"\") as file:\n",
    "        writer = csv.writer(file)\n",
    "        writer.writerows(list_pitstop_point[index]) "
   ]
  },
  {
   "cell_type": "code",
   "execution_count": 24,
   "metadata": {},
   "outputs": [
    {
     "name": "stdout",
     "output_type": "stream",
     "text": [
      "       DriverId  Year Round Stop Lap      Time Duration\n",
      "0      grosjean  2020     1    1  20  15:37:03   23.280\n",
      "1     raikkonen  2020     1    2  51  16:15:48   21.569\n",
      "2    giovinazzi  2020     1    2  55  16:22:14   22.800\n",
      "3       russell  2020     1    1  25  15:42:53   21.417\n",
      "4        bottas  2020     1    2  56  16:23:58   16.407\n",
      "..          ...   ...   ...  ...  ..       ...      ...\n",
      "288        ocon  2020    16    1  41  20:55:57   24.414\n",
      "289      stroll  2020    16    1  42  20:56:54   24.684\n",
      "290     russell  2020    16    1  45  20:59:22   24.708\n",
      "291       albon  2020    16    1  47  21:01:54   23.874\n",
      "292      bottas  2020    16    1  49  21:03:18   24.552\n",
      "\n",
      "[293 rows x 7 columns]\n"
     ]
    }
   ],
   "source": [
    "Table_pitstop=pd.DataFrame(list_pitstop_point[0],columns=column)\n",
    "print(Table_pitstop)"
   ]
  },
  {
   "cell_type": "code",
   "execution_count": 25,
   "metadata": {},
   "outputs": [
    {
     "name": "stdout",
     "output_type": "stream",
     "text": [
      "            DriverId  Year Round Stop Lap      Time Duration\n",
      "0              perez  2021     1    2  19  18:40:35   24.105\n",
      "1              gasly  2021     1    2  19  18:41:17   24.317\n",
      "2             alonso  2021     1    2  29  18:57:13   24.775\n",
      "3             norris  2021     1    1  12  18:29:05   24.899\n",
      "4            leclerc  2021     1    2  32  19:01:40   24.176\n",
      "..               ...   ...   ...  ...  ..       ...      ...\n",
      "277           stroll  2021    16    1  39  16:05:17   35.509\n",
      "278  mick_schumacher  2021    16    1  39  16:07:05   23.892\n",
      "279       giovinazzi  2021    16    1  40  16:07:22   23.150\n",
      "280          leclerc  2021    16    1  47  16:17:27   23.646\n",
      "281         hamilton  2021    16    1  50  16:22:19   22.684\n",
      "\n",
      "[282 rows x 7 columns]\n"
     ]
    }
   ],
   "source": [
    "Table_pitstop=pd.DataFrame(list_pitstop_point[1],columns=column)\n",
    "print(Table_pitstop)"
   ]
  },
  {
   "cell_type": "code",
   "execution_count": 26,
   "metadata": {},
   "outputs": [
    {
     "name": "stdout",
     "output_type": "stream",
     "text": [
      "            DriverId  Year Round Stop Lap      Time Duration\n",
      "0           hamilton  2022     1    2  27  18:48:44   25.796\n",
      "1             alonso  2022     1    2  25  18:45:53   24.909\n",
      "2    mick_schumacher  2022     1    1  12  18:24:08   25.214\n",
      "3              albon  2022     1    1  13  18:25:47   24.874\n",
      "4     max_verstappen  2022     1    2  30  18:53:16   24.937\n",
      "..               ...   ...   ...  ...  ..       ...      ...\n",
      "295            sainz  2022    16    2  47  16:12:01   24.525\n",
      "296         hamilton  2022    16    1  33  15:52:05   24.282\n",
      "297  mick_schumacher  2022    16    1  33  15:52:21   24.817\n",
      "298           norris  2022    16    2  47  16:12:41   24.784\n",
      "299           bottas  2022    16    1  35  15:55:18   24.758\n",
      "\n",
      "[300 rows x 7 columns]\n"
     ]
    }
   ],
   "source": [
    "Table_pitstop=pd.DataFrame(list_pitstop_point[2],columns=column)\n",
    "print(Table_pitstop)"
   ]
  },
  {
   "cell_type": "code",
   "execution_count": 27,
   "metadata": {},
   "outputs": [
    {
     "name": "stdout",
     "output_type": "stream",
     "text": [
      "    DriverId  Year Round Stop Lap      Time Duration\n",
      "0      gasly  2023     1    2  25  18:45:48   24.879\n",
      "1     norris  2023     1    3  27  18:49:35   33.467\n",
      "2    tsunoda  2023     1    2  26  18:47:26   24.372\n",
      "3     bottas  2023     1    2  29  18:52:16   25.643\n",
      "4      albon  2023     1    2  26  18:47:25   24.920\n",
      "..       ...   ...   ...  ...  ..       ...      ...\n",
      "296   norris  2023    16    1  17  14:36:20   23.523\n",
      "297  leclerc  2023    16    1  17  14:36:23   23.197\n",
      "298    sainz  2023    16    1  18  14:38:04   23.075\n",
      "299    gasly  2023    16    1  18  14:38:20   24.488\n",
      "300  russell  2023    16    1  24  14:48:05   24.034\n",
      "\n",
      "[301 rows x 7 columns]\n"
     ]
    }
   ],
   "source": [
    "Table_pitstop=pd.DataFrame(list_pitstop_point[3],columns=column)\n",
    "print(Table_pitstop)"
   ]
  },
  {
   "cell_type": "code",
   "execution_count": 28,
   "metadata": {},
   "outputs": [
    {
     "name": "stdout",
     "output_type": "stream",
     "text": [
      "           DriverId  Year Round Stop Lap      Time Duration\n",
      "0        hulkenberg  2024     1    2  20  18:37:08   24.768\n",
      "1              zhou  2024     1    2  28  18:49:59   25.094\n",
      "2            stroll  2024     1    2  27  18:48:25   24.545\n",
      "3              ocon  2024     1    2  30  18:53:30   25.145\n",
      "4          sargeant  2024     1    2  28  18:51:33   25.070\n",
      "..              ...   ...   ...  ...  ..       ...      ...\n",
      "300          stroll  2024    16    3  50  16:15:41   25.269\n",
      "301  max_verstappen  2024    16    2  41  16:01:54   24.150\n",
      "302           perez  2024    16    2  35  15:53:38   24.030\n",
      "303            ocon  2024    16    1  31  15:48:20   24.146\n",
      "304          bottas  2024    16    1  33  15:51:24   24.410\n",
      "\n",
      "[305 rows x 7 columns]\n"
     ]
    }
   ],
   "source": [
    "Table_pitstop=pd.DataFrame(list_pitstop_point[4],columns=column)\n",
    "print(Table_pitstop)"
   ]
  },
  {
   "cell_type": "markdown",
   "metadata": {},
   "source": [
    "## 3.5 Rate of Constructor"
   ]
  },
  {
   "cell_type": "code",
   "execution_count": 29,
   "metadata": {},
   "outputs": [
    {
     "name": "stdout",
     "output_type": "stream",
     "text": [
      "{'haas': [['19', '2'], ['20', '1'], ['23', '0'], ['19', '0'], ['21', '0'], ['13', '25'], ['16', '12'], ['16', '9'], ['19', '3'], ['10', '35'], ['15', '14']], 'alphatauri': [['10', '75'], ['14', '32'], ['9', '110'], ['14', '32'], ['14', '23'], ['17', '12'], ['14', '17'], ['17', '6'], ['20', '2'], ['22', '0']], 'alfa': [['16', '4'], ['17', '4'], ['16', '10'], ['18', '3'], ['20', '0'], ['10', '49'], ['18', '6'], ['15', '10'], ['18', '6']], 'racing_point': [['4', '125'], ['11', '75'], ['15', '10']], 'mclaren': [['6', '105'], ['9', '97'], ['6', '160'], ['8', '115'], ['7', '122'], ['11', '37'], ['6', '205'], ['9', '97'], ['2', '340'], ['4', '268']], 'williams': [['18', '3'], ['21', '0'], ['22', '0'], ['15', '16'], ['17', '7'], ['19', '4'], ['20', '2'], ['21', '2'], ['13', '27'], ['21', '1'], ['16', '12'], ['19', '5'], ['22', '0']], 'aston_martin': [['12', '43'], ['13', '34'], ['12', '37'], ['15', '18'], ['22', '0'], ['4', '206'], ['10', '74'], ['9', '62'], ['13', '24']], 'mercedes': [['1', '347'], ['2', '223'], ['2', '387.5'], ['3', '226'], ['4', '275'], ['6', '240'], ['3', '234'], ['8', '175'], ['6', '217'], ['7', '208']], 'alpine': [['10', '81'], ['11', '74'], ['8', '92'], ['9', '81'], ['11', '62'], ['12', '58'], ['12', '26'], ['14', '23']], 'renault': [['5', '119'], ['12', '62']], 'rb': [['11', '30'], ['17', '12'], ['20', '4']], 'sauber': [['21', '0'], ['23', '0']], 'red_bull': [['3', '214'], ['7', '105'], ['1', '395.5'], ['4', '190'], ['1', '454'], ['3', '305'], ['1', '575'], ['2', '285'], ['1', '403'], ['8', '152']], 'ferrari': [['8', '98'], ['13', '33'], ['5', '164.5'], ['7', '159'], ['2', '308'], ['5', '246'], ['5', '206'], ['7', '200'], ['3', '319'], ['5', '259'], ['18', '7']]}\n"
     ]
    }
   ],
   "source": [
    "stat_of_constructor={key: [] for key in List_of_constructor}\n",
    "for information in driveStanding_data:\n",
    "    for detail in information[\"MRData\"][\"StandingsTable\"][\"StandingsLists\"]:\n",
    "        for i in range(len(detail[\"DriverStandings\"])):\n",
    "            position=detail[\"DriverStandings\"][i][\"position\"]\n",
    "            point=detail[\"DriverStandings\"][i][\"points\"]\n",
    "            Id=detail[\"DriverStandings\"][i][\"Constructors\"][0][\"constructorId\"]\n",
    "            stat_of_constructor[Id].append([position,point])\n",
    "print(stat_of_constructor)"
   ]
  },
  {
   "cell_type": "code",
   "execution_count": 30,
   "metadata": {},
   "outputs": [
    {
     "name": "stdout",
     "output_type": "stream",
     "text": [
      "{'haas': [17.363636363636363, 9.181818181818182], 'alphatauri': [15.1, 30.9], 'alfa': [16.444444444444443, 10.222222222222221], 'racing_point': [10.0, 70.0], 'mclaren': [6.8, 154.6], 'williams': [18.76923076923077, 6.076923076923077], 'aston_martin': [12.222222222222221, 55.333333333333336], 'mercedes': [4.2, 253.25], 'alpine': [10.875, 62.125], 'renault': [8.5, 90.5], 'rb': [16.0, 15.333333333333334], 'sauber': [22.0, 0.0], 'red_bull': [3.1, 307.85], 'ferrari': [7.090909090909091, 181.77272727272728]}\n"
     ]
    }
   ],
   "source": [
    "Evaluate_constructor={}\n",
    "for key,value in stat_of_constructor.items():\n",
    "    point_mean=0\n",
    "    position_mean=0\n",
    "    for i in range(len(value)):\n",
    "        for j in range(len(value[i])):\n",
    "            if(j==0):\n",
    "                position_mean+=float(value[i][j])\n",
    "            elif(j==1):\n",
    "                point_mean+=float(value[i][j])\n",
    "    Evaluate_constructor[key]=[position_mean/len(value), point_mean/len(value)]\n",
    "print(Evaluate_constructor)\n",
    "\n"
   ]
  },
  {
   "cell_type": "code",
   "execution_count": 31,
   "metadata": {},
   "outputs": [
    {
     "name": "stdout",
     "output_type": "stream",
     "text": [
      "   ConstructorID  Position_Average  Point_Average\n",
      "0           haas         17.363636       9.181818\n",
      "1     alphatauri         15.100000      30.900000\n",
      "2           alfa         16.444444      10.222222\n",
      "3   racing_point         10.000000      70.000000\n",
      "4        mclaren          6.800000     154.600000\n",
      "5       williams         18.769231       6.076923\n",
      "6   aston_martin         12.222222      55.333333\n",
      "7       mercedes          4.200000     253.250000\n",
      "8         alpine         10.875000      62.125000\n",
      "9        renault          8.500000      90.500000\n",
      "10            rb         16.000000      15.333333\n",
      "11        sauber         22.000000       0.000000\n",
      "12      red_bull          3.100000     307.850000\n",
      "13       ferrari          7.090909     181.772727\n"
     ]
    }
   ],
   "source": [
    "List_of_constructor_evaluation=[]\n",
    "for key,value in Evaluate_constructor.items():\n",
    "    List_of_constructor_evaluation.append([key,value[0],value[1]])\n",
    "column=[\"ConstructorID\",\"Position_Average\",\"Point_Average\"]\n",
    "Table_constructor=pd.DataFrame(List_of_constructor_evaluation,columns=column)\n",
    "Table_constructor.to_csv(\"CLEAN_DATA/Constructor_stat.csv\",index=False, encoding='utf-8')\n",
    "print(Table_constructor)"
   ]
  },
  {
   "cell_type": "markdown",
   "metadata": {},
   "source": [
    "## 3.6 TOTAL DATA"
   ]
  },
  {
   "cell_type": "code",
   "execution_count": 32,
   "metadata": {},
   "outputs": [
    {
     "name": "stdout",
     "output_type": "stream",
     "text": [
      "{'aitken': [0.0], 'hamilton': [347.0], 'alonso': [62.0], 'zhou': [62.0], 'kubica': [62.0], 'piastri': [62.0], 'vettel': [33.0], 'gasly': [75.0], 'stroll': [75.0], 'hulkenberg': [10.0], 'kvyat': [32.0], 'giovinazzi': [4.0], 'mazepin': [62.0], 'tsunoda': [62.0], 'ocon': [62.0], 'kevin_magnussen': [1.0], 'sainz': [105.0], 'pietro_fittipaldi': [0.0], 'norris': [97.0], 'latifi': [0.0], 'leclerc': [98.0], 'bearman': [62.0], 'grosjean': [2.0], 'sargeant': [62.0], 'mick_schumacher': [62.0], 'max_verstappen': [214.0], 'colapinto': [62.0], 'bottas': [223.0], 'de_vries': [62.0], 'albon': [105.0], 'raikkonen': [4.0], 'lawson': [62.0], 'ricciardo': [119.0], 'russell': [3.0], 'perez': [125.0]}\n"
     ]
    }
   ],
   "source": [
    "Total_data={key: [] for key in List_driver}\n",
    "#Score season 2020 của các driverID\n",
    "required_length = 1\n",
    "for j in range(len(list_total_point[0])):\n",
    "    Total_data[list_total_point[0][j][0]].append(float(list_total_point[0][j][2]))\n",
    "for key, values in Total_data.items():\n",
    "    if(len(values)<required_length):\n",
    "        Total_data[key].append(median_score_2020)\n",
    "print(Total_data)\n",
    "    \n",
    "\n"
   ]
  },
  {
   "cell_type": "code",
   "execution_count": 33,
   "metadata": {},
   "outputs": [
    {
     "name": "stdout",
     "output_type": "stream",
     "text": [
      "{'aitken': [0.0, 74.0], 'hamilton': [347.0, 387.5], 'alonso': [62.0, 81.0], 'zhou': [62.0, 74.0], 'kubica': [62.0, 0.0], 'piastri': [62.0, 74.0], 'vettel': [33.0, 43.0], 'gasly': [75.0, 110.0], 'stroll': [75.0, 34.0], 'hulkenberg': [10.0, 74.0], 'kvyat': [32.0, 74.0], 'giovinazzi': [4.0, 3.0], 'mazepin': [62.0, 0.0], 'tsunoda': [62.0, 32.0], 'ocon': [62.0, 74.0], 'kevin_magnussen': [1.0, 74.0], 'sainz': [105.0, 164.5], 'pietro_fittipaldi': [0.0, 74.0], 'norris': [97.0, 160.0], 'latifi': [0.0, 7.0], 'leclerc': [98.0, 159.0], 'bearman': [62.0, 74.0], 'grosjean': [2.0, 74.0], 'sargeant': [62.0, 74.0], 'mick_schumacher': [62.0, 0.0], 'max_verstappen': [214.0, 395.5], 'colapinto': [62.0, 74.0], 'bottas': [223.0, 226.0], 'de_vries': [62.0, 74.0], 'albon': [105.0, 74.0], 'raikkonen': [4.0, 10.0], 'lawson': [62.0, 74.0], 'ricciardo': [119.0, 115.0], 'russell': [3.0, 16.0], 'perez': [125.0, 190.0]}\n"
     ]
    }
   ],
   "source": [
    "required_length = 2\n",
    "#Score season 2021 của các driverID\n",
    "for j in range(len(list_total_point[1])):\n",
    "    Total_data[list_total_point[1][j][0]].append(float(list_total_point[1][j][2]))\n",
    "for key, values in Total_data.items():\n",
    "    if(len(values)<required_length):\n",
    "        Total_data[key].append(median_score_2021)\n",
    "print(Total_data)"
   ]
  },
  {
   "cell_type": "code",
   "execution_count": 34,
   "metadata": {},
   "outputs": [
    {
     "name": "stdout",
     "output_type": "stream",
     "text": [
      "{'aitken': [0.0, 74.0, 37.0], 'hamilton': [347.0, 387.5, 240.0], 'alonso': [62.0, 81.0, 81.0], 'zhou': [62.0, 74.0, 6.0], 'kubica': [62.0, 0.0, 37.0], 'piastri': [62.0, 74.0, 37.0], 'vettel': [33.0, 43.0, 37.0], 'gasly': [75.0, 110.0, 23.0], 'stroll': [75.0, 34.0, 18.0], 'hulkenberg': [10.0, 74.0, 0.0], 'kvyat': [32.0, 74.0, 37.0], 'giovinazzi': [4.0, 3.0, 37.0], 'mazepin': [62.0, 0.0, 37.0], 'tsunoda': [62.0, 32.0, 12.0], 'ocon': [62.0, 74.0, 92.0], 'kevin_magnussen': [1.0, 74.0, 25.0], 'sainz': [105.0, 164.5, 246.0], 'pietro_fittipaldi': [0.0, 74.0, 37.0], 'norris': [97.0, 160.0, 122.0], 'latifi': [0.0, 7.0, 2.0], 'leclerc': [98.0, 159.0, 308.0], 'bearman': [62.0, 74.0, 37.0], 'grosjean': [2.0, 74.0, 37.0], 'sargeant': [62.0, 74.0, 37.0], 'mick_schumacher': [62.0, 0.0, 12.0], 'max_verstappen': [214.0, 395.5, 454.0], 'colapinto': [62.0, 74.0, 37.0], 'bottas': [223.0, 226.0, 49.0], 'de_vries': [62.0, 74.0, 2.0], 'albon': [105.0, 74.0, 4.0], 'raikkonen': [4.0, 10.0, 37.0], 'lawson': [62.0, 74.0, 37.0], 'ricciardo': [119.0, 115.0, 37.0], 'russell': [3.0, 16.0, 275.0], 'perez': [125.0, 190.0, 305.0]}\n"
     ]
    }
   ],
   "source": [
    "required_length = 3\n",
    "#Score season 2022 của các driverID\n",
    "for j in range(len(list_total_point[2])):\n",
    "    Total_data[list_total_point[2][j][0]].append(float(list_total_point[2][j][2]))\n",
    "for key, values in Total_data.items():\n",
    "    if(len(values)<required_length):\n",
    "        Total_data[key].append(median_score_2022)\n",
    "print(Total_data)"
   ]
  },
  {
   "cell_type": "code",
   "execution_count": 35,
   "metadata": {},
   "outputs": [
    {
     "name": "stdout",
     "output_type": "stream",
     "text": [
      "{'aitken': [0.0, 74.0, 37.0, 60.0], 'hamilton': [347.0, 387.5, 240.0, 234.0], 'alonso': [62.0, 81.0, 81.0, 206.0], 'zhou': [62.0, 74.0, 6.0, 6.0], 'kubica': [62.0, 0.0, 37.0, 60.0], 'piastri': [62.0, 74.0, 37.0, 97.0], 'vettel': [33.0, 43.0, 37.0, 60.0], 'gasly': [75.0, 110.0, 23.0, 62.0], 'stroll': [75.0, 34.0, 18.0, 74.0], 'hulkenberg': [10.0, 74.0, 0.0, 9.0], 'kvyat': [32.0, 74.0, 37.0, 60.0], 'giovinazzi': [4.0, 3.0, 37.0, 60.0], 'mazepin': [62.0, 0.0, 37.0, 60.0], 'tsunoda': [62.0, 32.0, 12.0, 17.0], 'ocon': [62.0, 74.0, 92.0, 58.0], 'kevin_magnussen': [1.0, 74.0, 25.0, 3.0], 'sainz': [105.0, 164.5, 246.0, 200.0], 'pietro_fittipaldi': [0.0, 74.0, 37.0, 60.0], 'norris': [97.0, 160.0, 122.0, 205.0], 'latifi': [0.0, 7.0, 2.0, 60.0], 'leclerc': [98.0, 159.0, 308.0, 206.0], 'bearman': [62.0, 74.0, 37.0, 60.0], 'grosjean': [2.0, 74.0, 37.0, 60.0], 'sargeant': [62.0, 74.0, 37.0, 1.0], 'mick_schumacher': [62.0, 0.0, 12.0, 60.0], 'max_verstappen': [214.0, 395.5, 454.0, 575.0], 'colapinto': [62.0, 74.0, 37.0, 60.0], 'bottas': [223.0, 226.0, 49.0, 10.0], 'de_vries': [62.0, 74.0, 2.0, 0.0], 'albon': [105.0, 74.0, 4.0, 27.0], 'raikkonen': [4.0, 10.0, 37.0, 60.0], 'lawson': [62.0, 74.0, 37.0, 2.0], 'ricciardo': [119.0, 115.0, 37.0, 6.0], 'russell': [3.0, 16.0, 275.0, 175.0], 'perez': [125.0, 190.0, 305.0, 285.0]}\n"
     ]
    }
   ],
   "source": [
    "required_length = 4\n",
    "#Score season 2023 của các driverID\n",
    "for j in range(len(list_total_point[3])):\n",
    "    Total_data[list_total_point[3][j][0]].append(float(list_total_point[3][j][2]))\n",
    "for key, values in Total_data.items():\n",
    "    if(len(values)<required_length):\n",
    "        Total_data[key].append(median_score_2023)\n",
    "print(Total_data)"
   ]
  },
  {
   "cell_type": "code",
   "execution_count": 36,
   "metadata": {},
   "outputs": [
    {
     "name": "stdout",
     "output_type": "stream",
     "text": [
      "{'aitken': [0.0, 74.0, 37.0, 60.0, 26.0], 'hamilton': [347.0, 387.5, 240.0, 234.0, 208.0], 'alonso': [62.0, 81.0, 81.0, 206.0, 62.0], 'zhou': [62.0, 74.0, 6.0, 6.0, 0.0], 'kubica': [62.0, 0.0, 37.0, 60.0, 26.0], 'piastri': [62.0, 74.0, 37.0, 97.0, 268.0], 'vettel': [33.0, 43.0, 37.0, 60.0, 26.0], 'gasly': [75.0, 110.0, 23.0, 62.0, 26.0], 'stroll': [75.0, 34.0, 18.0, 74.0, 24.0], 'hulkenberg': [10.0, 74.0, 0.0, 9.0, 35.0], 'kvyat': [32.0, 74.0, 37.0, 60.0, 26.0], 'giovinazzi': [4.0, 3.0, 37.0, 60.0, 26.0], 'mazepin': [62.0, 0.0, 37.0, 60.0, 26.0], 'tsunoda': [62.0, 32.0, 12.0, 17.0, 30.0], 'ocon': [62.0, 74.0, 92.0, 58.0, 23.0], 'kevin_magnussen': [1.0, 74.0, 25.0, 3.0, 14.0], 'sainz': [105.0, 164.5, 246.0, 200.0, 259.0], 'pietro_fittipaldi': [0.0, 74.0, 37.0, 60.0, 26.0], 'norris': [97.0, 160.0, 122.0, 205.0, 340.0], 'latifi': [0.0, 7.0, 2.0, 60.0, 26.0], 'leclerc': [98.0, 159.0, 308.0, 206.0, 319.0], 'bearman': [62.0, 74.0, 37.0, 60.0, 7.0], 'grosjean': [2.0, 74.0, 37.0, 60.0, 26.0], 'sargeant': [62.0, 74.0, 37.0, 1.0, 0.0], 'mick_schumacher': [62.0, 0.0, 12.0, 60.0, 26.0], 'max_verstappen': [214.0, 395.5, 454.0, 575.0, 403.0], 'colapinto': [62.0, 74.0, 37.0, 60.0, 5.0], 'bottas': [223.0, 226.0, 49.0, 10.0, 0.0], 'de_vries': [62.0, 74.0, 2.0, 0.0, 26.0], 'albon': [105.0, 74.0, 4.0, 27.0, 12.0], 'raikkonen': [4.0, 10.0, 37.0, 60.0, 26.0], 'lawson': [62.0, 74.0, 37.0, 2.0, 4.0], 'ricciardo': [119.0, 115.0, 37.0, 6.0, 12.0], 'russell': [3.0, 16.0, 275.0, 175.0, 217.0], 'perez': [125.0, 190.0, 305.0, 285.0, 152.0]}\n"
     ]
    }
   ],
   "source": [
    "required_length = 5\n",
    "#Score season 2024 của các driverID\n",
    "for j in range(len(list_total_point[4])):\n",
    "    Total_data[list_total_point[4][j][0]].append(float(list_total_point[4][j][2]))\n",
    "for key, values in Total_data.items():\n",
    "    if(len(values)<required_length):\n",
    "        Total_data[key].append(median_score_2024)\n",
    "print(Total_data)"
   ]
  },
  {
   "cell_type": "code",
   "execution_count": 37,
   "metadata": {},
   "outputs": [],
   "source": [
    "List_driver_per_round=set()\n",
    "for driverId in List_driver:\n",
    "    for round in range(1,17):\n",
    "        List_driver_per_round.add((driverId,round))"
   ]
  },
  {
   "cell_type": "code",
   "execution_count": null,
   "metadata": {},
   "outputs": [
    {
     "name": "stdout",
     "output_type": "stream",
     "text": [
      "{'aitken': [0.0, 74.0, 37.0, 60.0, 26.0, nan, nan, nan, nan, nan, nan, nan, nan, nan, nan, nan, nan, nan, nan, nan, 0.0], 'hamilton': [347.0, 387.5, 240.0, 234.0, 208.0, 13.6, 11.4, 16.2, 12.0, 8.8, 11.2, 14.6, 12.0, 14.0, 17.2, 16.4, 17.9, 17.4, 11.6, 16.4, 10.0], 'alonso': [62.0, 81.0, 81.0, 206.0, 62.0, 4.75, 6.5, 5.75, 5.0, 5.5, 7.5, 4.0, 6.5, 5.25, 5.5, 3.75, 5.5, 7.75, 5.0, 4.25, 1.0], 'zhou': [62.0, 74.0, 6.0, 6.0, 0.0, 0.3333333333333333, 0.0, 0.6666666666666666, 0.0, 0.0, 0.0, 0.6666666666666666, 0.0, 1.3333333333333333, 0.0, 0.0, 0.0, 0.0, 0.0, 0.0, 0.3333333333333333], 'kubica': [62.0, 0.0, 37.0, 60.0, 26.0, nan, nan, nan, nan, nan, nan, nan, nan, nan, nan, nan, nan, 0.0, 0.0, nan, nan], 'piastri': [62.0, 74.0, 37.0, 97.0, 268.0, 2.0, 6.0, 8.0, 2.0, 2.0, 0.5, 6.0, 9.0, 5.0, 9.0, 14.0, 6.0, 13.5, 9.0, 9.0, 16.5], 'vettel': [33.0, 43.0, 37.0, 60.0, 26.0, 0.5, 0.0, 2.6666666666666665, 1.6666666666666667, 3.3333333333333335, 8.0, 1.0, 2.6666666666666665, 0.3333333333333333, 0.6666666666666666, 0.0, 2.0, 0.3333333333333333, 6.333333333333333, 0.0, 0.0], 'gasly': [75.0, 110.0, 23.0, 62.0, 26.0, 1.6, 2.4, 0.6, 1.4, 2.4, 4.6, 2.2, 7.2, 1.0, 0.8, 4.0, 2.8, 5.4, 0.4, 3.6, 2.6], 'stroll': [75.0, 34.0, 18.0, 74.0, 24.0, 2.0, 2.0, 6.4, 1.8, 2.6, 2.4, 2.6, 4.2, 1.8, 0.8, 0.25, 1.8, 0.2, 1.6, 0.2, 3.4], 'hulkenberg': [10.0, 74.0, 0.0, 9.0, 35.0, 0.0, 0.3333333333333333, 4.0, 0.0, 2.3333333333333335, 0.0, 0.0, 0.0, 0.0, 0.0, 4.0, 4.0, 0.0, 0.0, 0.0, 0.0], 'kvyat': [32.0, 74.0, 37.0, 60.0, 26.0, 0.0, 1.0, 0.0, 0.0, 1.0, 0.0, 0.0, 2.0, 6.0, 4.0, 0.0, 0.0, 12.0, 0.0, 0.0, 6.0], 'giovinazzi': [4.0, 3.0, 37.0, 60.0, 26.0, 1.0, 0.0, 0.0, 0.0, 0.5, 0.0, 0.0, 0.0, 0.0, 0.0, 0.5, 0.0, 0.5, 0.0, 0.0, 0.0], 'mazepin': [62.0, 0.0, 37.0, 60.0, 26.0, 0.0, 0.0, 0.0, 0.0, 0.0, 0.0, 0.0, 0.0, 0.0, 0.0, 0.0, 0.0, 0.0, 0.0, 0.0, 0.0], 'tsunoda': [62.0, 32.0, 12.0, 17.0, 30.0, 1.5, 0.0, 1.75, 2.0, 0.0, 3.25, 0.25, 1.25, 0.0, 0.25, 2.0, 0.5, 0.5, 0.0, 0.0, 0.0], 'ocon': [62.0, 74.0, 92.0, 58.0, 23.0, 2.0, 2.8, 2.4, 2.0, 2.4, 4.4, 2.8, 1.8, 1.8, 1.8, 7.0, 3.0, 1.0, 1.8, 0.8, 4.2], 'kevin_magnussen': [1.0, 74.0, 25.0, 3.0, 14.0, 2.5, 0.75, 0.5, 0.5, 0.25, 0.0, 0.0, 0.0, 0.0, 0.25, 2.0, 0.0, 0.0, 0.0, 0.25, 0.25], 'sainz': [105.0, 164.5, 246.0, 200.0, 259.0, 11.8, 9.0, 5.4, 6.2, 10.6, 7.6, 7.6, 10.2, 7.4, 8.4, 8.8, 6.1, 8.4, 11.2, 12.8, 9.6], 'pietro_fittipaldi': [0.0, 74.0, 37.0, 60.0, 26.0, nan, nan, nan, nan, nan, nan, nan, nan, nan, nan, nan, nan, nan, nan, nan, 0.0], 'norris': [97.0, 160.0, 122.0, 205.0, 340.0, 7.2, 7.0, 8.6, 8.2, 7.0, 8.4, 8.6, 7.2, 10.6, 11.4, 4.8, 5.4, 7.0, 7.4, 13.8, 9.4], 'latifi': [0.0, 7.0, 2.0, 60.0, 26.0, 0.0, 0.0, 0.0, 0.0, 0.0, 0.0, 0.0, 0.0, 0.0, 0.0, 2.0, 0.3333333333333333, 0.0, 0.0, 0.0, 0.0], 'leclerc': [98.0, 159.0, 308.0, 206.0, 319.0, 12.8, 10.6, 10.6, 12.4, 9.6, 7.0, 5.4, 8.6, 7.2, 10.0, 7.4, 5.8, 8.0, 11.8, 8.6, 13.4], 'bearman': [62.0, 74.0, 37.0, 60.0, 7.0, nan, 6.0, nan, nan, nan, nan, nan, nan, nan, nan, nan, nan, nan, nan, nan, nan], 'grosjean': [2.0, 74.0, 37.0, 60.0, 26.0, 0.0, 0.0, 0.0, 0.0, 0.0, 0.0, 0.0, 0.0, 0.0, 0.0, 2.0, 0.0, 0.0, 0.0, 0.0, nan], 'sargeant': [62.0, 74.0, 37.0, 1.0, 0.0, 0.0, 0.0, 0.0, 0.0, 0.0, 0.0, 0.0, 0.0, 0.0, 0.0, 0.0, 0.0, 0.0, 0.0, 0.0, 0.0], 'mick_schumacher': [62.0, 0.0, 12.0, 60.0, 26.0, 0.0, 0.0, 0.0, 0.0, 0.0, 0.0, 0.0, 0.0, 0.0, 2.0, 4.0, 0.0, 0.0, 0.0, 0.0, 0.0], 'max_verstappen': [214.0, 395.5, 454.0, 575.0, 403.0, 13.8, 21.8, 12.2, 21.6, 25.4, 17.2, 21.4, 16.6, 20.4, 15.0, 15.2, 19.1, 17.0, 14.2, 18.2, 15.4], 'colapinto': [62.0, 74.0, 37.0, 60.0, 5.0, nan, nan, nan, nan, nan, nan, nan, nan, nan, nan, nan, nan, nan, nan, nan, 0.0], 'bottas': [223.0, 226.0, 49.0, 10.0, 0.0, 10.6, 3.6, 7.0, 5.0, 4.2, 4.8, 6.4, 5.2, 8.4, 8.2, 0.0, 3.6, 6.6, 3.2, 2.8, 6.0], 'de_vries': [62.0, 74.0, 2.0, 0.0, 26.0, 0.0, 0.0, 0.0, 0.0, 0.0, 0.0, 0.0, 0.0, 0.0, 0.0, nan, nan, nan, nan, nan, 2.0], 'albon': [105.0, 74.0, 4.0, 27.0, 12.0, 0.25, 3.0, 2.75, 1.0, 3.0, 1.0, 2.0, 2.0, 3.75, 1.25, 0.0, 0.5, 1.0, 3.25, 3.75, 3.3333333333333335], 'raikkonen': [4.0, 10.0, 37.0, 60.0, 26.0, 0.0, 0.0, 0.0, 0.0, 0.0, 0.5, 0.0, 0.0, 1.0, 0.0, 0.5, 0.0, 2.0, 0.0, 2.0, 0.0], 'lawson': [62.0, 74.0, 37.0, 2.0, 4.0, nan, nan, nan, nan, nan, nan, nan, nan, nan, nan, nan, nan, 0.0, 0.0, 2.0, 0.0], 'ricciardo': [119.0, 115.0, 37.0, 6.0, 12.0, 1.5, 3.0, 3.5, 5.0, 0.0, 0.5, 5.25, 3.0, 5.5, 5.0, 3.8, 2.0, 3.75, 7.0, 4.5, 2.5], 'russell': [3.0, 16.0, 275.0, 175.0, 217.0, 5.6, 6.0, 3.0, 4.6, 6.0, 5.8, 6.4, 5.0, 6.6, 4.4, 9.8, 6.4, 4.0, 4.8, 5.0, 6.0], 'perez': [125.0, 190.0, 305.0, 285.0, 152.0, 10.8, 12.6, 11.4, 17.75, 14.25, 13.2, 11.4, 8.2, 6.6, 8.4, 6.6, 7.2, 8.0, 14.2, 4.8, 10.6]}\n"
     ]
    },
    {
     "name": "stderr",
     "output_type": "stream",
     "text": [
      "c:\\Users\\ASUS\\miniconda3\\Lib\\site-packages\\numpy\\core\\fromnumeric.py:3504: RuntimeWarning: Mean of empty slice.\n",
      "  return _methods._mean(a, axis=axis, dtype=dtype,\n",
      "c:\\Users\\ASUS\\miniconda3\\Lib\\site-packages\\numpy\\core\\_methods.py:129: RuntimeWarning: invalid value encountered in scalar divide\n",
      "  ret = ret.dtype.type(ret / rcount)\n"
     ]
    }
   ],
   "source": [
    "# Thêm feature score trung bình của mỗi round 1 đến 16\n",
    "Score_per_round={key: [] for key in List_driver_per_round}\n",
    "for index in range(len(list_result_point)):\n",
    "    for j in range(len(list_result_point[index])):\n",
    "        driverID=list_result_point[index][j][0]\n",
    "        round=list_result_point[index][j][1]\n",
    "        score=list_result_point[index][j][4]\n",
    "        Score_per_round[(driverID,int(round))].append(float(score))\n",
    "for key,value in Total_data.items():\n",
    "    for round in range(1,17):\n",
    "        Total_data[key].append(np.mean(Score_per_round[(key,round)]))\n",
    "print(Total_data)"
   ]
  },
  {
   "cell_type": "code",
   "execution_count": null,
   "metadata": {},
   "outputs": [],
   "source": [
    "# Đổi giờ ra thành đơn vị giây\n",
    "def time_to_seconds(time_str):\n",
    "    if \":\" in time_str:\n",
    "        # Tách phút và giây\n",
    "        minutes, seconds = time_str.split(\":\")\n",
    "        # Chuyển đổi sang tổng số giây\n",
    "        return float(minutes) * 60 + float(seconds)\n",
    "    return float(time_str)\n",
    "    "
   ]
  },
  {
   "cell_type": "code",
   "execution_count": null,
   "metadata": {},
   "outputs": [
    {
     "name": "stdout",
     "output_type": "stream",
     "text": [
      "53\n",
      "53\n",
      "53\n",
      "53\n",
      "53\n",
      "53\n",
      "53\n",
      "53\n",
      "53\n",
      "53\n",
      "53\n",
      "53\n",
      "53\n",
      "53\n",
      "53\n",
      "53\n",
      "53\n",
      "53\n",
      "53\n",
      "53\n",
      "53\n",
      "53\n",
      "53\n",
      "53\n",
      "53\n",
      "53\n",
      "53\n",
      "53\n",
      "53\n",
      "53\n",
      "53\n",
      "53\n",
      "53\n",
      "53\n",
      "53\n",
      "{'aitken': [0.0, 74.0, 37.0, 60.0, 26.0, nan, nan, nan, nan, nan, nan, nan, nan, nan, nan, nan, nan, nan, nan, nan, 0.0, nan, nan, nan, nan, nan, nan, nan, nan, nan, nan, nan, nan, nan, nan, nan, nan, nan, nan, nan, nan, nan, nan, nan, nan, nan, nan, nan, nan, nan, nan, 2.0, 25.688], 'hamilton': [347.0, 387.5, 240.0, 234.0, 208.0, 13.6, 11.4, 16.2, 12.0, 8.8, 11.2, 14.6, 12.0, 14.0, 17.2, 16.4, 17.9, 17.4, 11.6, 16.4, 10.0, 1.8, 23.2028, 1.2, 24.5974, 1.2, 201.0276, 1.2, 336.92859999999996, 1.4, 23.256400000000003, 1.6, 21.941200000000002, 1.2, 26.038, 11.8, 321.46320000000003, 2.0, 305.63539999999995, 1.0, 1037.525, 1.2, 307.8004, 1.5, 29.352999999999998, 2.0, 22.7412, 1.25, 24.109499999999997, 1.8, 25.5518, 1.25, 23.9905], 'alonso': [62.0, 81.0, 81.0, 206.0, 62.0, 4.75, 6.5, 5.75, 5.0, 5.5, 7.5, 4.0, 6.5, 5.25, 5.5, 3.75, 5.5, 7.75, 5.0, 4.25, 1.0, 1.5, 25.0675, 1.0, 25.35375, 1.25, 246.2365, 1.3333333333333333, 22.72966666666667, 1.25, 22.68975, 1.75, 22.54675, 1.5, 27.07575, 1.25, 613.77425, 1.5, 22.187, 1.0, 1291.229, 1.75, 29.19325, 1.0, 29.650000000000002, 1.5, 20.7525, 1.25, 24.156000000000002, 1.25, 30.94775, 1.6666666666666667, 25.970333333333333], 'zhou': [62.0, 74.0, 6.0, 6.0, 0.0, 0.3333333333333333, 0.0, 0.6666666666666666, 0.0, 0.0, 0.0, 0.6666666666666666, 0.0, 1.3333333333333333, 0.0, 0.0, 0.0, 0.0, 0.0, 0.0, 0.3333333333333333, 1.3333333333333333, 25.436333333333334, 1.6666666666666667, 27.588666666666665, 1.6666666666666667, 331.0316666666667, 1.6666666666666667, 27.034333333333336, 1.0, 23.079, 1.3333333333333333, 23.795333333333332, 1.3333333333333333, 26.242333333333335, 24.333333333333332, 24.959000000000003, 1.3333333333333333, 24.751, 2.0, 28.448500000000003, 1.3333333333333333, 22.918333333333333, 2.3333333333333335, 34.653333333333336, 1.6666666666666667, 21.578333333333337, 2.0, 24.6615, 2.0, 26.038, 1.3333333333333333, 25.531666666666666], 'kubica': [62.0, 0.0, 37.0, 60.0, 26.0, nan, nan, nan, nan, nan, nan, nan, nan, nan, nan, nan, nan, 0.0, 0.0, nan, nan, nan, nan, nan, nan, nan, nan, nan, nan, nan, nan, nan, nan, nan, nan, nan, nan, nan, nan, nan, nan, nan, nan, nan, nan, 1.0, 19.708, 1.0, 24.501, nan, nan, nan, nan], 'piastri': [62.0, 74.0, 37.0, 97.0, 268.0, 2.0, 6.0, 8.0, 2.0, 2.0, 0.5, 6.0, 9.0, 5.0, 9.0, 14.0, 6.0, 13.5, 9.0, 9.0, 16.5, 1.0, 25.45, 1.0, 26.4805, 1.5, 476.537, 1.5, 22.161, 1.0, 22.439, 1.5, 28.13, 1.0, 26.07, 1.5, 1190.5405, 1.5, 20.4, 1.0, 25.439500000000002, 1.5, 21.504, 1.0, 29.541, 1.0, 21.641, 1.5, 27.211, 1.0, 25.169, 1.5, 24.5625], 'vettel': [33.0, 43.0, 37.0, 60.0, 26.0, 0.5, 0.0, 2.6666666666666665, 1.6666666666666667, 3.3333333333333335, 8.0, 1.0, 2.6666666666666665, 0.3333333333333333, 0.6666666666666666, 0.0, 2.0, 0.3333333333333333, 6.333333333333333, 0.0, 0.0, 1.5, 23.682000000000002, 3.0, 39.502, 2.0, 21.814999999999998, 1.3333333333333333, 27.298666666666666, 1.0, 24.132333333333335, 1.3333333333333333, 19.767, 1.0, 26.33866666666667, 1.0, 20.8975, 2.3333333333333335, 498.0116666666666, 1.6666666666666667, 29.128666666666664, 1.6666666666666667, 29.119999999999994, 1.0, 31.6685, 1.6666666666666667, 23.339, 1.6666666666666667, 24.850000000000005, 1.3333333333333333, 401.8133333333333, 2.0, 25.796999999999997], 'gasly': [75.0, 110.0, 23.0, 62.0, 26.0, 1.6, 2.4, 0.6, 1.4, 2.4, 4.6, 2.2, 7.2, 1.0, 0.8, 4.0, 2.8, 5.4, 0.4, 3.6, 2.6, 1.8, 24.7998, 1.5, 24.524, 1.2, 202.2594, 1.4, 338.7692, 1.4, 26.774, 1.8, 23.5682, 1.4, 27.2548, 1.5, 987.14675, 2.0, 22.67125, 1.6, 435.28600000000006, 2.0, 28.102249999999998, 1.0, 29.612333333333336, 1.25, 20.44025, 2.0, 23.339999999999996, 1.2, 252.5942, 1.4, 25.5908], 'stroll': [75.0, 34.0, 18.0, 74.0, 24.0, 2.0, 2.0, 6.4, 1.8, 2.6, 2.4, 2.6, 4.2, 1.8, 0.8, 0.25, 1.8, 0.2, 1.6, 0.2, 3.4, 1.5, 25.3145, 1.25, 389.42425, 1.6, 202.18919999999997, 1.4, 25.8668, 1.4, 23.2168, 1.75, 23.267249999999997, 1.4, 28.155399999999997, 10.6, 322.4706, 1.4, 305.4464, 1.75, 27.19675, 1.3333333333333333, 21.744333333333334, 1.25, 32.936749999999996, 1.6, 24.2486, 1.2, 24.1204, 1.5, 309.7115, 1.4, 26.631400000000003], 'hulkenberg': [10.0, 74.0, 0.0, 9.0, 35.0, 0.0, 0.3333333333333333, 4.0, 0.0, 2.3333333333333335, 0.0, 0.0, 0.0, 0.0, 0.0, 4.0, 4.0, 0.0, 0.0, 0.0, 0.0, 1.6666666666666667, 29.967333333333332, 1.0, 21.342333333333332, 1.5, 472.2355, 1.5, 24.185000000000002, 1.6666666666666667, 24.947333333333333, 1.5, 27.490499999999997, 1.5, 26.503, 2.0, 24.2, 2.0, 23.2795, 1.5, 26.3625, 2.0, 22.151666666666667, 1.5, 27.325, 2.0, 22.472, 2.0, 23.798000000000002, 1.0, 28.558, 2.0, 30.118000000000002], 'kvyat': [32.0, 74.0, 37.0, 60.0, 26.0, 0.0, 1.0, 0.0, 0.0, 1.0, 0.0, 0.0, 2.0, 6.0, 4.0, 0.0, 0.0, 12.0, 0.0, 0.0, 6.0, 2.0, 21.622, 1.0, 22.197, 2.0, 22.685, nan, nan, 1.0, 28.036, 2.0, 22.079, 1.0, 23.769, 1.0, 25.92, 2.0, 1445.955, 1.0, 29.662, 1.0, 30.826, 2.0, 32.943, 2.0, 29.809, 1.0, 23.417, 2.0, 37.317, 2.0, 24.232], 'giovinazzi': [4.0, 3.0, 37.0, 60.0, 26.0, 1.0, 0.0, 0.0, 0.0, 0.5, 0.0, 0.0, 0.0, 0.0, 0.0, 0.5, 0.0, 0.5, 0.0, 0.0, 0.0, 2.0, 23.511499999999998, 1.0, 26.983, 1.5, 22.7835, 1.5, 25.613, 1.0, 26.2065, 2.0, 20.9935, 1.0, 30.586, 1.5, 771.5175, 2.0, 27.122, 1.5, 28.951999999999998, 2.0, 739.5604999999999, 1.0, 26.473, 1.5, 24.894, 1.5, 27.9915, 1.0, 592.4934999999999, 1.5, 23.850499999999997], 'mazepin': [62.0, 0.0, 37.0, 60.0, 26.0, 0.0, 0.0, 0.0, 0.0, 0.0, 0.0, 0.0, 0.0, 0.0, 0.0, 0.0, 0.0, 0.0, 0.0, 0.0, 0.0, nan, nan, 2.0, 31.5, 1.0, 21.372, 2.0, 22.502, 1.0, 25.202, 3.0, 24.78, 1.0, 30.983, 1.0, 22.759, 2.0, 23.182, 1.0, 2076.977, 2.0, 1457.42, nan, nan, 1.0, 19.999, 3.0, 30.917, 2.0, 33.931, 1.0, 23.829], 'tsunoda': [62.0, 32.0, 12.0, 17.0, 30.0, 1.5, 0.0, 1.75, 2.0, 0.0, 3.25, 0.25, 1.25, 0.0, 0.25, 2.0, 0.5, 0.5, 0.0, 0.0, 0.0, 1.5, 24.623, 1.0, 24.601333333333333, 1.25, 247.516, 1.3333333333333333, 24.742333333333335, 1.5, 22.20625, 1.0, 24.79875, 1.5, 26.971, 1.5, 616.95525, 1.75, 22.96725, 1.75, 540.28525, 1.25, 27.47725, 1.3333333333333333, 30.128333333333334, 1.5, 20.55925, 1.0, 26.753500000000003, 1.6666666666666667, 23.544666666666668, 1.3333333333333333, 23.392333333333337], 'ocon': [62.0, 74.0, 92.0, 58.0, 23.0, 2.0, 2.8, 2.4, 2.0, 2.4, 4.4, 2.8, 1.8, 1.8, 1.8, 7.0, 3.0, 1.0, 1.8, 0.8, 4.2, 1.8, 27.6308, 1.5, 23.7765, 1.8, 206.3566, 1.0, 338.28740000000005, 1.2, 23.2394, 1.25, 22.96825, 1.2, 26.831200000000003, 1.5, 397.69925, 1.3333333333333333, 19.847666666666665, 1.75, 27.775750000000002, 1.6666666666666667, 27.974, 1.75, 31.4775, 1.4, 22.9238, 1.2, 24.9868, 1.2, 24.8404, 1.0, 24.988], 'kevin_magnussen': [1.0, 74.0, 25.0, 3.0, 14.0, 2.5, 0.75, 0.5, 0.5, 0.25, 0.0, 0.0, 0.0, 0.0, 0.25, 2.0, 0.0, 0.0, 0.0, 0.25, 0.25, 1.6666666666666667, 25.089333333333332, 1.0, 21.670250000000003, 1.6666666666666667, 325.83, 1.0, 549.782, 1.5, 23.913, 2.0, 26.252666666666666, 1.6666666666666667, 26.813666666666666, 1.0, 28.847333333333335, 2.0, 29.583, 1.6666666666666667, 29.542666666666666, 2.0, 22.2965, 1.75, 29.28975, 1.75, 24.146500000000003, 1.75, 56.436, 1.75, 29.122, 1.5, 24.95], 'sainz': [105.0, 164.5, 246.0, 200.0, 259.0, 11.8, 9.0, 5.4, 6.2, 10.6, 7.6, 7.6, 10.2, 7.4, 8.4, 8.8, 6.1, 8.4, 11.2, 12.8, 9.6, 1.4, 23.914, 1.25, 23.7525, 1.5, 250.9995, 1.75, 25.81, 1.0, 25.3968, 1.4, 22.2308, 1.0, 27.00725, 1.25, 973.7, 1.5, 21.70425, 1.5, 534.7035, 1.4, 25.825800000000005, 1.25, 30.52325, 1.4, 22.9854, 1.6, 23.768399999999996, 1.2, 253.60239999999993, 1.4, 25.0238], 'pietro_fittipaldi': [0.0, 74.0, 37.0, 60.0, 26.0, nan, nan, nan, nan, nan, nan, nan, nan, nan, nan, nan, nan, nan, nan, nan, 0.0, nan, nan, nan, nan, nan, nan, nan, nan, nan, nan, nan, nan, nan, nan, nan, nan, nan, nan, nan, nan, nan, nan, nan, nan, nan, nan, nan, nan, nan, nan, 2.0, 26.393], 'norris': [97.0, 160.0, 122.0, 205.0, 340.0, 7.2, 7.0, 8.6, 8.2, 7.0, 8.4, 8.6, 7.2, 10.6, 11.4, 4.8, 5.4, 7.0, 7.4, 13.8, 9.4, 2.0, 25.1604, 1.2, 23.4012, 1.2, 203.1316, 1.2, 25.123600000000003, 1.2, 23.797, 1.4, 23.935799999999997, 1.4, 26.2286, 1.4, 790.8504, 1.6, 308.187, 1.4, 631.269, 1.2, 26.148000000000003, 1.5, 29.4235, 1.4, 23.293799999999997, 1.4, 23.349800000000002, 1.2, 24.9654, 1.6, 24.1322], 'latifi': [0.0, 7.0, 2.0, 60.0, 26.0, 0.0, 0.0, 0.0, 0.0, 0.0, 0.0, 0.0, 0.0, 0.0, 0.0, 2.0, 0.3333333333333333, 0.0, 0.0, 0.0, 0.0, 1.6666666666666667, 24.24733333333333, 1.0, 22.745, 2.0, 22.757666666666665, 1.6666666666666667, 28.30033333333333, 1.3333333333333333, 23.658, 1.3333333333333333, 22.26066666666667, 2.0, 26.720666666666663, 2.0, 522.384, 1.5, 25.593, 1.6666666666666667, 28.74466666666667, 2.0, 28.11666666666667, 1.5, 31.8405, 1.3333333333333333, 24.33, 1.3333333333333333, 24.358, 1.3333333333333333, 402.92799999999994, 1.3333333333333333, 24.221333333333334], 'leclerc': [98.0, 159.0, 308.0, 206.0, 319.0, 12.8, 10.6, 10.6, 12.4, 9.6, 7.0, 5.4, 8.6, 7.2, 10.0, 7.4, 5.8, 8.0, 11.8, 8.6, 13.4, 1.6, 23.8178, 1.0, 27.04, 1.75, 20.107999999999997, 1.4, 338.4304, 1.0, 23.386, 1.2, 21.035400000000003, 1.6, 27.285800000000002, 1.2, 490.36979999999994, 1.8, 22.366600000000002, 1.2, 1033.0834000000002, 2.0, 22.0845, 1.3333333333333333, 26.465666666666667, 1.6, 24.125999999999998, 1.6, 23.738799999999998, 1.0, 251.78259999999995, 1.5, 23.77825], 'bearman': [62.0, 74.0, 37.0, 60.0, 7.0, nan, 6.0, nan, nan, nan, nan, nan, nan, nan, nan, nan, nan, nan, nan, nan, nan, nan, nan, 1.0, 22.457, nan, nan, nan, nan, nan, nan, nan, nan, nan, nan, nan, nan, nan, nan, nan, nan, nan, nan, nan, nan, nan, nan, nan, nan, nan, nan, nan, nan], 'grosjean': [2.0, 74.0, 37.0, 60.0, 26.0, 0.0, 0.0, 0.0, 0.0, 0.0, 0.0, 0.0, 0.0, 0.0, 0.0, 2.0, 0.0, 0.0, 0.0, 0.0, nan, 1.0, 23.28, 1.0, 22.444, 1.0, 22.591, 1.0, 33.816, 1.0, 29.377, 1.0, 23.212, 1.0, 23.636, 1.0, 25.936, 2.0, 1450.651, 2.0, 29.988, 1.0, 23.635, 1.0, 26.985, 2.0, 31.199, 1.0, 26.686, nan, nan, nan, nan], 'sargeant': [62.0, 74.0, 37.0, 1.0, 0.0, 0.0, 0.0, 0.0, 0.0, 0.0, 0.0, 0.0, 0.0, 0.0, 0.0, 0.0, 0.0, 0.0, 0.0, 0.0, 0.0, 1.5, 25.335, 1.0, 22.3545, 4.0, 19.018, 1.0, 803.1410000000001, 1.0, 36.0835, 2.0, 24.2785, 1.5, 27.456000000000003, 57.0, 24.384, 1.0, 17.337, 1.5, 25.6765, 2.0, 22.3495, 1.5, 28.369500000000002, 2.0, 21.398, 1.5, 24.235500000000002, 1.5, 26.524, 3.0, 35.182], 'mick_schumacher': [62.0, 0.0, 12.0, 60.0, 26.0, 0.0, 0.0, 0.0, 0.0, 0.0, 0.0, 0.0, 0.0, 0.0, 2.0, 4.0, 0.0, 0.0, 0.0, 0.0, 0.0, 1.0, 25.506, 2.0, 32.479, 1.0, 20.529, 1.5, 27.495, 1.5, 28.589, 2.5, 22.357, 1.5, 34.1555, 1.5, 22.3155, 1.0, 21.798, 1.5, 1052.4375, 2.0, 29.8465, 2.0, 37.003, 2.0, 23.572, 1.0, 24.436, 1.5, 25.905, 1.0, 24.3545], 'max_verstappen': [214.0, 395.5, 454.0, 575.0, 403.0, 13.8, 21.8, 12.2, 21.6, 25.4, 17.2, 21.4, 16.6, 20.4, 15.0, 15.2, 19.1, 17.0, 14.2, 18.2, 15.4, 1.25, 24.764249999999997, 1.4, 340.9228, 1.25, 246.7565, 1.6, 25.132799999999996, 1.4, 23.2976, 1.4, 22.0642, 1.4, 26.6048, 11.8, 322.4354, 1.5, 21.40375, 1.5, 27.160999999999998, 1.6, 308.73339999999996, 1.25, 28.405749999999998, 1.6, 22.1246, 1.4, 25.0054, 1.4, 25.1512, 1.5, 23.76625], 'colapinto': [62.0, 74.0, 37.0, 60.0, 5.0, nan, nan, nan, nan, nan, nan, nan, nan, nan, nan, nan, nan, nan, nan, nan, 0.0, nan, nan, nan, nan, nan, nan, nan, nan, nan, nan, nan, nan, nan, nan, nan, nan, nan, nan, nan, nan, nan, nan, nan, nan, nan, nan, nan, nan, nan, nan, 1.0, 25.147], 'bottas': [223.0, 226.0, 49.0, 10.0, 0.0, 10.6, 3.6, 7.0, 5.0, 4.2, 4.8, 6.4, 5.2, 8.4, 8.2, 0.0, 3.6, 6.6, 3.2, 2.8, 6.0, 1.8, 35.1226, 1.8, 23.8684, 1.8, 203.7322, 1.8, 28.541200000000003, 1.0, 23.53225, 1.2, 23.7626, 1.0, 27.1832, 4.0, 322.6544, 1.2, 305.12420000000003, 1.4, 633.2632, 1.75, 22.534, 1.75, 29.586250000000003, 1.5, 24.06925, 1.0, 23.87775, 1.8, 25.462799999999998, 1.2, 30.0388], 'de_vries': [62.0, 74.0, 2.0, 0.0, 26.0, 0.0, 0.0, 0.0, 0.0, 0.0, 0.0, 0.0, 0.0, 0.0, 0.0, nan, nan, nan, nan, nan, 2.0, 2.0, 25.234, 1.0, 21.116, 2.0, 18.08, nan, nan, 1.0, 23.487, 1.0, 24.539, 2.0, 21.976, 1.0, 24.96, 2.0, 21.333, 2.0, 28.413, nan, nan, nan, nan, nan, nan, nan, nan, nan, nan, 1.0, 24.628], 'albon': [105.0, 74.0, 4.0, 27.0, 12.0, 0.25, 3.0, 2.75, 1.0, 3.0, 1.0, 2.0, 2.0, 3.75, 1.25, 0.0, 0.5, 1.0, 3.25, 3.75, 3.3333333333333335, 1.75, 22.8775, 1.0, 21.326999999999998, 1.6666666666666667, 19.921333333333333, 1.3333333333333333, 28.401333333333337, 1.5, 23.49975, 2.0, 23.5045, 2.0, 26.13725, 1.25, 614.4137499999999, 1.75, 377.14099999999996, 1.3333333333333333, 27.664333333333335, 1.75, 22.2845, 1.5, 30.4, 2.3333333333333335, 25.75333333333333, 1.75, 23.64725, 1.75, 23.574999999999996, 1.3333333333333333, 33.61333333333334], 'raikkonen': [4.0, 10.0, 37.0, 60.0, 26.0, 0.0, 0.0, 0.0, 0.0, 0.0, 0.5, 0.0, 0.0, 1.0, 0.0, 0.5, 0.0, 2.0, 0.0, 2.0, 0.0, 2.0, 22.807499999999997, 1.5, 757.0355000000001, 2.0, 27.128, 1.5, 32.8285, 1.0, 26.686500000000002, 1.5, 21.1225, 1.0, 27.143500000000003, 1.5, 771.106, 2.0, 736.0409999999999, 1.5, 30.7135, 1.5, 29.158, 1.0, 29.061, 1.0, 29.863, 2.0, 31.356, 2.0, 31.2045, 1.5, 23.7825], 'lawson': [62.0, 74.0, 37.0, 2.0, 4.0, nan, nan, nan, nan, nan, nan, nan, nan, nan, nan, nan, nan, 0.0, 0.0, 2.0, 0.0, nan, nan, nan, nan, nan, nan, nan, nan, nan, nan, nan, nan, nan, nan, nan, nan, nan, nan, nan, nan, nan, nan, nan, nan, 2.0, 30.836, 2.0, 24.281, 1.0, 32.348, 2.0, 23.671], 'ricciardo': [119.0, 115.0, 37.0, 6.0, 12.0, 1.5, 3.0, 3.5, 5.0, 0.0, 0.5, 5.25, 3.0, 5.5, 5.0, 3.8, 2.0, 3.75, 7.0, 4.5, 2.5, 1.3333333333333333, 24.852666666666664, 1.0, 34.98925, 1.25, 19.9465, 2.0, 27.158666666666665, 1.5, 23.69, 1.0, 21.64575, 1.0, 27.41525, 1.25, 988.1659999999999, 1.5, 378.48699999999997, 1.5, 27.88875, 1.8, 24.3348, 1.5, 29.1065, 1.25, 23.147250000000003, 1.5, 23.108249999999998, 1.75, 24.0355, 1.25, 25.801000000000002], 'russell': [3.0, 16.0, 275.0, 175.0, 217.0, 5.6, 6.0, 3.0, 4.6, 6.0, 5.8, 6.4, 5.0, 6.6, 4.4, 9.8, 6.4, 4.0, 4.8, 5.0, 6.0, 1.2, 24.7708, 1.0, 22.9872, 1.6, 202.2942, 1.4, 336.9854, 1.4, 23.267199999999995, 1.4, 23.5704, 1.25, 26.831, 1.4, 510.07939999999996, 1.6, 307.8334, 2.0, 27.410500000000003, 1.4, 23.432, 1.0, 31.7875, 1.6, 23.7, 1.2, 23.3452, 1.6, 253.18699999999998, 1.4, 24.5408], 'perez': [125.0, 190.0, 305.0, 285.0, 152.0, 10.8, 12.6, 11.4, 17.75, 14.25, 13.2, 11.4, 8.2, 6.6, 8.4, 6.6, 7.2, 8.0, 14.2, 4.8, 10.6, 1.6, 22.720799999999997, 1.0, 26.1522, 1.8, 203.50619999999998, 1.5, 23.846999999999998, 1.5, 21.808999999999997, 1.8, 21.3126, 1.2, 25.767400000000002, 1.5, 23.320999999999998, 1.5, 376.28325, 1.6, 28.863999999999997, 1.25, 22.183, 1.5, 30.17325, 1.8, 22.226399999999998, 1.4, 23.6372, 1.4, 26.198400000000003, 2.0, 516.0424]}\n"
     ]
    }
   ],
   "source": [
    "# Thêm stop_times và duration từ round 1 đến round 16\n",
    "Stop_times_per_round={key: [] for key in List_driver_per_round}\n",
    "duration_per_round={key: [] for key in List_driver_per_round}\n",
    "for index in range(len(list_pitstop_point)):\n",
    "    for j in range(len(list_pitstop_point[index])):\n",
    "        driverID=list_pitstop_point[index][j][0]\n",
    "        round=list_pitstop_point[index][j][2]\n",
    "        stop_times=list_pitstop_point[index][j][3]\n",
    "        duration=list_pitstop_point[index][j][6]\n",
    "        Stop_times_per_round[(driverID,int(round))].append(float(stop_times))\n",
    "        duration_per_round[(driverID,int(round))].append(time_to_seconds(duration))\n",
    "for key,value in Total_data.items():\n",
    "    for round in range(1,17):\n",
    "        Total_data[key].append(np.mean(Stop_times_per_round[(key,round)]))\n",
    "        Total_data[key].append(np.mean(duration_per_round[(key,round)]))\n",
    "print(Total_data)"
   ]
  },
  {
   "cell_type": "code",
   "execution_count": null,
   "metadata": {},
   "outputs": [
    {
     "name": "stdout",
     "output_type": "stream",
     "text": [
      "{'aitken': [0.0, 74.0, 37.0, 60.0, 26.0, nan, nan, nan, nan, nan, nan, nan, nan, nan, nan, nan, nan, nan, nan, nan, 0.0, nan, nan, nan, nan, nan, nan, nan, nan, nan, nan, nan, nan, nan, nan, nan, nan, nan, nan, nan, nan, nan, nan, nan, nan, nan, nan, nan, nan, nan, nan, 2.0, 25.688, 'None'], 'hamilton': [347.0, 387.5, 240.0, 234.0, 208.0, 13.6, 11.4, 16.2, 12.0, 8.8, 11.2, 14.6, 12.0, 14.0, 17.2, 16.4, 17.9, 17.4, 11.6, 16.4, 10.0, 1.8, 23.2028, 1.2, 24.5974, 1.2, 201.0276, 1.2, 336.92859999999996, 1.4, 23.256400000000003, 1.6, 21.941200000000002, 1.2, 26.038, 11.8, 321.46320000000003, 2.0, 305.63539999999995, 1.0, 1037.525, 1.2, 307.8004, 1.5, 29.352999999999998, 2.0, 22.7412, 1.25, 24.109499999999997, 1.8, 25.5518, 1.25, 23.9905, 'mercedes'], 'alonso': [62.0, 81.0, 81.0, 206.0, 62.0, 4.75, 6.5, 5.75, 5.0, 5.5, 7.5, 4.0, 6.5, 5.25, 5.5, 3.75, 5.5, 7.75, 5.0, 4.25, 1.0, 1.5, 25.0675, 1.0, 25.35375, 1.25, 246.2365, 1.3333333333333333, 22.72966666666667, 1.25, 22.68975, 1.75, 22.54675, 1.5, 27.07575, 1.25, 613.77425, 1.5, 22.187, 1.0, 1291.229, 1.75, 29.19325, 1.0, 29.650000000000002, 1.5, 20.7525, 1.25, 24.156000000000002, 1.25, 30.94775, 1.6666666666666667, 25.970333333333333, 'aston_martin'], 'zhou': [62.0, 74.0, 6.0, 6.0, 0.0, 0.3333333333333333, 0.0, 0.6666666666666666, 0.0, 0.0, 0.0, 0.6666666666666666, 0.0, 1.3333333333333333, 0.0, 0.0, 0.0, 0.0, 0.0, 0.0, 0.3333333333333333, 1.3333333333333333, 25.436333333333334, 1.6666666666666667, 27.588666666666665, 1.6666666666666667, 331.0316666666667, 1.6666666666666667, 27.034333333333336, 1.0, 23.079, 1.3333333333333333, 23.795333333333332, 1.3333333333333333, 26.242333333333335, 24.333333333333332, 24.959000000000003, 1.3333333333333333, 24.751, 2.0, 28.448500000000003, 1.3333333333333333, 22.918333333333333, 2.3333333333333335, 34.653333333333336, 1.6666666666666667, 21.578333333333337, 2.0, 24.6615, 2.0, 26.038, 1.3333333333333333, 25.531666666666666, 'sauber'], 'kubica': [62.0, 0.0, 37.0, 60.0, 26.0, nan, nan, nan, nan, nan, nan, nan, nan, nan, nan, nan, nan, 0.0, 0.0, nan, nan, nan, nan, nan, nan, nan, nan, nan, nan, nan, nan, nan, nan, nan, nan, nan, nan, nan, nan, nan, nan, nan, nan, nan, nan, 1.0, 19.708, 1.0, 24.501, nan, nan, nan, nan, 'None'], 'piastri': [62.0, 74.0, 37.0, 97.0, 268.0, 2.0, 6.0, 8.0, 2.0, 2.0, 0.5, 6.0, 9.0, 5.0, 9.0, 14.0, 6.0, 13.5, 9.0, 9.0, 16.5, 1.0, 25.45, 1.0, 26.4805, 1.5, 476.537, 1.5, 22.161, 1.0, 22.439, 1.5, 28.13, 1.0, 26.07, 1.5, 1190.5405, 1.5, 20.4, 1.0, 25.439500000000002, 1.5, 21.504, 1.0, 29.541, 1.0, 21.641, 1.5, 27.211, 1.0, 25.169, 1.5, 24.5625, 'mclaren'], 'vettel': [33.0, 43.0, 37.0, 60.0, 26.0, 0.5, 0.0, 2.6666666666666665, 1.6666666666666667, 3.3333333333333335, 8.0, 1.0, 2.6666666666666665, 0.3333333333333333, 0.6666666666666666, 0.0, 2.0, 0.3333333333333333, 6.333333333333333, 0.0, 0.0, 1.5, 23.682000000000002, 3.0, 39.502, 2.0, 21.814999999999998, 1.3333333333333333, 27.298666666666666, 1.0, 24.132333333333335, 1.3333333333333333, 19.767, 1.0, 26.33866666666667, 1.0, 20.8975, 2.3333333333333335, 498.0116666666666, 1.6666666666666667, 29.128666666666664, 1.6666666666666667, 29.119999999999994, 1.0, 31.6685, 1.6666666666666667, 23.339, 1.6666666666666667, 24.850000000000005, 1.3333333333333333, 401.8133333333333, 2.0, 25.796999999999997, 'None'], 'gasly': [75.0, 110.0, 23.0, 62.0, 26.0, 1.6, 2.4, 0.6, 1.4, 2.4, 4.6, 2.2, 7.2, 1.0, 0.8, 4.0, 2.8, 5.4, 0.4, 3.6, 2.6, 1.8, 24.7998, 1.5, 24.524, 1.2, 202.2594, 1.4, 338.7692, 1.4, 26.774, 1.8, 23.5682, 1.4, 27.2548, 1.5, 987.14675, 2.0, 22.67125, 1.6, 435.28600000000006, 2.0, 28.102249999999998, 1.0, 29.612333333333336, 1.25, 20.44025, 2.0, 23.339999999999996, 1.2, 252.5942, 1.4, 25.5908, 'alpine'], 'stroll': [75.0, 34.0, 18.0, 74.0, 24.0, 2.0, 2.0, 6.4, 1.8, 2.6, 2.4, 2.6, 4.2, 1.8, 0.8, 0.25, 1.8, 0.2, 1.6, 0.2, 3.4, 1.5, 25.3145, 1.25, 389.42425, 1.6, 202.18919999999997, 1.4, 25.8668, 1.4, 23.2168, 1.75, 23.267249999999997, 1.4, 28.155399999999997, 10.6, 322.4706, 1.4, 305.4464, 1.75, 27.19675, 1.3333333333333333, 21.744333333333334, 1.25, 32.936749999999996, 1.6, 24.2486, 1.2, 24.1204, 1.5, 309.7115, 1.4, 26.631400000000003, 'aston_martin'], 'hulkenberg': [10.0, 74.0, 0.0, 9.0, 35.0, 0.0, 0.3333333333333333, 4.0, 0.0, 2.3333333333333335, 0.0, 0.0, 0.0, 0.0, 0.0, 4.0, 4.0, 0.0, 0.0, 0.0, 0.0, 1.6666666666666667, 29.967333333333332, 1.0, 21.342333333333332, 1.5, 472.2355, 1.5, 24.185000000000002, 1.6666666666666667, 24.947333333333333, 1.5, 27.490499999999997, 1.5, 26.503, 2.0, 24.2, 2.0, 23.2795, 1.5, 26.3625, 2.0, 22.151666666666667, 1.5, 27.325, 2.0, 22.472, 2.0, 23.798000000000002, 1.0, 28.558, 2.0, 30.118000000000002, 'haas'], 'kvyat': [32.0, 74.0, 37.0, 60.0, 26.0, 0.0, 1.0, 0.0, 0.0, 1.0, 0.0, 0.0, 2.0, 6.0, 4.0, 0.0, 0.0, 12.0, 0.0, 0.0, 6.0, 2.0, 21.622, 1.0, 22.197, 2.0, 22.685, nan, nan, 1.0, 28.036, 2.0, 22.079, 1.0, 23.769, 1.0, 25.92, 2.0, 1445.955, 1.0, 29.662, 1.0, 30.826, 2.0, 32.943, 2.0, 29.809, 1.0, 23.417, 2.0, 37.317, 2.0, 24.232, 'None'], 'giovinazzi': [4.0, 3.0, 37.0, 60.0, 26.0, 1.0, 0.0, 0.0, 0.0, 0.5, 0.0, 0.0, 0.0, 0.0, 0.0, 0.5, 0.0, 0.5, 0.0, 0.0, 0.0, 2.0, 23.511499999999998, 1.0, 26.983, 1.5, 22.7835, 1.5, 25.613, 1.0, 26.2065, 2.0, 20.9935, 1.0, 30.586, 1.5, 771.5175, 2.0, 27.122, 1.5, 28.951999999999998, 2.0, 739.5604999999999, 1.0, 26.473, 1.5, 24.894, 1.5, 27.9915, 1.0, 592.4934999999999, 1.5, 23.850499999999997, 'None'], 'mazepin': [62.0, 0.0, 37.0, 60.0, 26.0, 0.0, 0.0, 0.0, 0.0, 0.0, 0.0, 0.0, 0.0, 0.0, 0.0, 0.0, 0.0, 0.0, 0.0, 0.0, 0.0, nan, nan, 2.0, 31.5, 1.0, 21.372, 2.0, 22.502, 1.0, 25.202, 3.0, 24.78, 1.0, 30.983, 1.0, 22.759, 2.0, 23.182, 1.0, 2076.977, 2.0, 1457.42, nan, nan, 1.0, 19.999, 3.0, 30.917, 2.0, 33.931, 1.0, 23.829, 'None'], 'tsunoda': [62.0, 32.0, 12.0, 17.0, 30.0, 1.5, 0.0, 1.75, 2.0, 0.0, 3.25, 0.25, 1.25, 0.0, 0.25, 2.0, 0.5, 0.5, 0.0, 0.0, 0.0, 1.5, 24.623, 1.0, 24.601333333333333, 1.25, 247.516, 1.3333333333333333, 24.742333333333335, 1.5, 22.20625, 1.0, 24.79875, 1.5, 26.971, 1.5, 616.95525, 1.75, 22.96725, 1.75, 540.28525, 1.25, 27.47725, 1.3333333333333333, 30.128333333333334, 1.5, 20.55925, 1.0, 26.753500000000003, 1.6666666666666667, 23.544666666666668, 1.3333333333333333, 23.392333333333337, 'rb'], 'ocon': [62.0, 74.0, 92.0, 58.0, 23.0, 2.0, 2.8, 2.4, 2.0, 2.4, 4.4, 2.8, 1.8, 1.8, 1.8, 7.0, 3.0, 1.0, 1.8, 0.8, 4.2, 1.8, 27.6308, 1.5, 23.7765, 1.8, 206.3566, 1.0, 338.28740000000005, 1.2, 23.2394, 1.25, 22.96825, 1.2, 26.831200000000003, 1.5, 397.69925, 1.3333333333333333, 19.847666666666665, 1.75, 27.775750000000002, 1.6666666666666667, 27.974, 1.75, 31.4775, 1.4, 22.9238, 1.2, 24.9868, 1.2, 24.8404, 1.0, 24.988, 'alpine'], 'kevin_magnussen': [1.0, 74.0, 25.0, 3.0, 14.0, 2.5, 0.75, 0.5, 0.5, 0.25, 0.0, 0.0, 0.0, 0.0, 0.25, 2.0, 0.0, 0.0, 0.0, 0.25, 0.25, 1.6666666666666667, 25.089333333333332, 1.0, 21.670250000000003, 1.6666666666666667, 325.83, 1.0, 549.782, 1.5, 23.913, 2.0, 26.252666666666666, 1.6666666666666667, 26.813666666666666, 1.0, 28.847333333333335, 2.0, 29.583, 1.6666666666666667, 29.542666666666666, 2.0, 22.2965, 1.75, 29.28975, 1.75, 24.146500000000003, 1.75, 56.436, 1.75, 29.122, 1.5, 24.95, 'haas'], 'sainz': [105.0, 164.5, 246.0, 200.0, 259.0, 11.8, 9.0, 5.4, 6.2, 10.6, 7.6, 7.6, 10.2, 7.4, 8.4, 8.8, 6.1, 8.4, 11.2, 12.8, 9.6, 1.4, 23.914, 1.25, 23.7525, 1.5, 250.9995, 1.75, 25.81, 1.0, 25.3968, 1.4, 22.2308, 1.0, 27.00725, 1.25, 973.7, 1.5, 21.70425, 1.5, 534.7035, 1.4, 25.825800000000005, 1.25, 30.52325, 1.4, 22.9854, 1.6, 23.768399999999996, 1.2, 253.60239999999993, 1.4, 25.0238, 'ferrari'], 'pietro_fittipaldi': [0.0, 74.0, 37.0, 60.0, 26.0, nan, nan, nan, nan, nan, nan, nan, nan, nan, nan, nan, nan, nan, nan, nan, 0.0, nan, nan, nan, nan, nan, nan, nan, nan, nan, nan, nan, nan, nan, nan, nan, nan, nan, nan, nan, nan, nan, nan, nan, nan, nan, nan, nan, nan, nan, nan, 2.0, 26.393, 'None'], 'norris': [97.0, 160.0, 122.0, 205.0, 340.0, 7.2, 7.0, 8.6, 8.2, 7.0, 8.4, 8.6, 7.2, 10.6, 11.4, 4.8, 5.4, 7.0, 7.4, 13.8, 9.4, 2.0, 25.1604, 1.2, 23.4012, 1.2, 203.1316, 1.2, 25.123600000000003, 1.2, 23.797, 1.4, 23.935799999999997, 1.4, 26.2286, 1.4, 790.8504, 1.6, 308.187, 1.4, 631.269, 1.2, 26.148000000000003, 1.5, 29.4235, 1.4, 23.293799999999997, 1.4, 23.349800000000002, 1.2, 24.9654, 1.6, 24.1322, 'mclaren'], 'latifi': [0.0, 7.0, 2.0, 60.0, 26.0, 0.0, 0.0, 0.0, 0.0, 0.0, 0.0, 0.0, 0.0, 0.0, 0.0, 2.0, 0.3333333333333333, 0.0, 0.0, 0.0, 0.0, 1.6666666666666667, 24.24733333333333, 1.0, 22.745, 2.0, 22.757666666666665, 1.6666666666666667, 28.30033333333333, 1.3333333333333333, 23.658, 1.3333333333333333, 22.26066666666667, 2.0, 26.720666666666663, 2.0, 522.384, 1.5, 25.593, 1.6666666666666667, 28.74466666666667, 2.0, 28.11666666666667, 1.5, 31.8405, 1.3333333333333333, 24.33, 1.3333333333333333, 24.358, 1.3333333333333333, 402.92799999999994, 1.3333333333333333, 24.221333333333334, 'None'], 'leclerc': [98.0, 159.0, 308.0, 206.0, 319.0, 12.8, 10.6, 10.6, 12.4, 9.6, 7.0, 5.4, 8.6, 7.2, 10.0, 7.4, 5.8, 8.0, 11.8, 8.6, 13.4, 1.6, 23.8178, 1.0, 27.04, 1.75, 20.107999999999997, 1.4, 338.4304, 1.0, 23.386, 1.2, 21.035400000000003, 1.6, 27.285800000000002, 1.2, 490.36979999999994, 1.8, 22.366600000000002, 1.2, 1033.0834000000002, 2.0, 22.0845, 1.3333333333333333, 26.465666666666667, 1.6, 24.125999999999998, 1.6, 23.738799999999998, 1.0, 251.78259999999995, 1.5, 23.77825, 'ferrari'], 'bearman': [62.0, 74.0, 37.0, 60.0, 7.0, nan, 6.0, nan, nan, nan, nan, nan, nan, nan, nan, nan, nan, nan, nan, nan, nan, nan, nan, 1.0, 22.457, nan, nan, nan, nan, nan, nan, nan, nan, nan, nan, nan, nan, nan, nan, nan, nan, nan, nan, nan, nan, nan, nan, nan, nan, nan, nan, nan, nan, 'ferrari'], 'grosjean': [2.0, 74.0, 37.0, 60.0, 26.0, 0.0, 0.0, 0.0, 0.0, 0.0, 0.0, 0.0, 0.0, 0.0, 0.0, 2.0, 0.0, 0.0, 0.0, 0.0, nan, 1.0, 23.28, 1.0, 22.444, 1.0, 22.591, 1.0, 33.816, 1.0, 29.377, 1.0, 23.212, 1.0, 23.636, 1.0, 25.936, 2.0, 1450.651, 2.0, 29.988, 1.0, 23.635, 1.0, 26.985, 2.0, 31.199, 1.0, 26.686, nan, nan, nan, nan, 'None'], 'sargeant': [62.0, 74.0, 37.0, 1.0, 0.0, 0.0, 0.0, 0.0, 0.0, 0.0, 0.0, 0.0, 0.0, 0.0, 0.0, 0.0, 0.0, 0.0, 0.0, 0.0, 0.0, 1.5, 25.335, 1.0, 22.3545, 4.0, 19.018, 1.0, 803.1410000000001, 1.0, 36.0835, 2.0, 24.2785, 1.5, 27.456000000000003, 57.0, 24.384, 1.0, 17.337, 1.5, 25.6765, 2.0, 22.3495, 1.5, 28.369500000000002, 2.0, 21.398, 1.5, 24.235500000000002, 1.5, 26.524, 3.0, 35.182, 'williams'], 'mick_schumacher': [62.0, 0.0, 12.0, 60.0, 26.0, 0.0, 0.0, 0.0, 0.0, 0.0, 0.0, 0.0, 0.0, 0.0, 2.0, 4.0, 0.0, 0.0, 0.0, 0.0, 0.0, 1.0, 25.506, 2.0, 32.479, 1.0, 20.529, 1.5, 27.495, 1.5, 28.589, 2.5, 22.357, 1.5, 34.1555, 1.5, 22.3155, 1.0, 21.798, 1.5, 1052.4375, 2.0, 29.8465, 2.0, 37.003, 2.0, 23.572, 1.0, 24.436, 1.5, 25.905, 1.0, 24.3545, 'None'], 'max_verstappen': [214.0, 395.5, 454.0, 575.0, 403.0, 13.8, 21.8, 12.2, 21.6, 25.4, 17.2, 21.4, 16.6, 20.4, 15.0, 15.2, 19.1, 17.0, 14.2, 18.2, 15.4, 1.25, 24.764249999999997, 1.4, 340.9228, 1.25, 246.7565, 1.6, 25.132799999999996, 1.4, 23.2976, 1.4, 22.0642, 1.4, 26.6048, 11.8, 322.4354, 1.5, 21.40375, 1.5, 27.160999999999998, 1.6, 308.73339999999996, 1.25, 28.405749999999998, 1.6, 22.1246, 1.4, 25.0054, 1.4, 25.1512, 1.5, 23.76625, 'red_bull'], 'colapinto': [62.0, 74.0, 37.0, 60.0, 5.0, nan, nan, nan, nan, nan, nan, nan, nan, nan, nan, nan, nan, nan, nan, nan, 0.0, nan, nan, nan, nan, nan, nan, nan, nan, nan, nan, nan, nan, nan, nan, nan, nan, nan, nan, nan, nan, nan, nan, nan, nan, nan, nan, nan, nan, nan, nan, 1.0, 25.147, 'williams'], 'bottas': [223.0, 226.0, 49.0, 10.0, 0.0, 10.6, 3.6, 7.0, 5.0, 4.2, 4.8, 6.4, 5.2, 8.4, 8.2, 0.0, 3.6, 6.6, 3.2, 2.8, 6.0, 1.8, 35.1226, 1.8, 23.8684, 1.8, 203.7322, 1.8, 28.541200000000003, 1.0, 23.53225, 1.2, 23.7626, 1.0, 27.1832, 4.0, 322.6544, 1.2, 305.12420000000003, 1.4, 633.2632, 1.75, 22.534, 1.75, 29.586250000000003, 1.5, 24.06925, 1.0, 23.87775, 1.8, 25.462799999999998, 1.2, 30.0388, 'sauber'], 'de_vries': [62.0, 74.0, 2.0, 0.0, 26.0, 0.0, 0.0, 0.0, 0.0, 0.0, 0.0, 0.0, 0.0, 0.0, 0.0, nan, nan, nan, nan, nan, 2.0, 2.0, 25.234, 1.0, 21.116, 2.0, 18.08, nan, nan, 1.0, 23.487, 1.0, 24.539, 2.0, 21.976, 1.0, 24.96, 2.0, 21.333, 2.0, 28.413, nan, nan, nan, nan, nan, nan, nan, nan, nan, nan, 1.0, 24.628, 'None'], 'albon': [105.0, 74.0, 4.0, 27.0, 12.0, 0.25, 3.0, 2.75, 1.0, 3.0, 1.0, 2.0, 2.0, 3.75, 1.25, 0.0, 0.5, 1.0, 3.25, 3.75, 3.3333333333333335, 1.75, 22.8775, 1.0, 21.326999999999998, 1.6666666666666667, 19.921333333333333, 1.3333333333333333, 28.401333333333337, 1.5, 23.49975, 2.0, 23.5045, 2.0, 26.13725, 1.25, 614.4137499999999, 1.75, 377.14099999999996, 1.3333333333333333, 27.664333333333335, 1.75, 22.2845, 1.5, 30.4, 2.3333333333333335, 25.75333333333333, 1.75, 23.64725, 1.75, 23.574999999999996, 1.3333333333333333, 33.61333333333334, 'williams'], 'raikkonen': [4.0, 10.0, 37.0, 60.0, 26.0, 0.0, 0.0, 0.0, 0.0, 0.0, 0.5, 0.0, 0.0, 1.0, 0.0, 0.5, 0.0, 2.0, 0.0, 2.0, 0.0, 2.0, 22.807499999999997, 1.5, 757.0355000000001, 2.0, 27.128, 1.5, 32.8285, 1.0, 26.686500000000002, 1.5, 21.1225, 1.0, 27.143500000000003, 1.5, 771.106, 2.0, 736.0409999999999, 1.5, 30.7135, 1.5, 29.158, 1.0, 29.061, 1.0, 29.863, 2.0, 31.356, 2.0, 31.2045, 1.5, 23.7825, 'None'], 'lawson': [62.0, 74.0, 37.0, 2.0, 4.0, nan, nan, nan, nan, nan, nan, nan, nan, nan, nan, nan, nan, 0.0, 0.0, 2.0, 0.0, nan, nan, nan, nan, nan, nan, nan, nan, nan, nan, nan, nan, nan, nan, nan, nan, nan, nan, nan, nan, nan, nan, nan, nan, 2.0, 30.836, 2.0, 24.281, 1.0, 32.348, 2.0, 23.671, 'None'], 'ricciardo': [119.0, 115.0, 37.0, 6.0, 12.0, 1.5, 3.0, 3.5, 5.0, 0.0, 0.5, 5.25, 3.0, 5.5, 5.0, 3.8, 2.0, 3.75, 7.0, 4.5, 2.5, 1.3333333333333333, 24.852666666666664, 1.0, 34.98925, 1.25, 19.9465, 2.0, 27.158666666666665, 1.5, 23.69, 1.0, 21.64575, 1.0, 27.41525, 1.25, 988.1659999999999, 1.5, 378.48699999999997, 1.5, 27.88875, 1.8, 24.3348, 1.5, 29.1065, 1.25, 23.147250000000003, 1.5, 23.108249999999998, 1.75, 24.0355, 1.25, 25.801000000000002, 'rb'], 'russell': [3.0, 16.0, 275.0, 175.0, 217.0, 5.6, 6.0, 3.0, 4.6, 6.0, 5.8, 6.4, 5.0, 6.6, 4.4, 9.8, 6.4, 4.0, 4.8, 5.0, 6.0, 1.2, 24.7708, 1.0, 22.9872, 1.6, 202.2942, 1.4, 336.9854, 1.4, 23.267199999999995, 1.4, 23.5704, 1.25, 26.831, 1.4, 510.07939999999996, 1.6, 307.8334, 2.0, 27.410500000000003, 1.4, 23.432, 1.0, 31.7875, 1.6, 23.7, 1.2, 23.3452, 1.6, 253.18699999999998, 1.4, 24.5408, 'mercedes'], 'perez': [125.0, 190.0, 305.0, 285.0, 152.0, 10.8, 12.6, 11.4, 17.75, 14.25, 13.2, 11.4, 8.2, 6.6, 8.4, 6.6, 7.2, 8.0, 14.2, 4.8, 10.6, 1.6, 22.720799999999997, 1.0, 26.1522, 1.8, 203.50619999999998, 1.5, 23.846999999999998, 1.5, 21.808999999999997, 1.8, 21.3126, 1.2, 25.767400000000002, 1.5, 23.320999999999998, 1.5, 376.28325, 1.6, 28.863999999999997, 1.25, 22.183, 1.5, 30.17325, 1.8, 22.226399999999998, 1.4, 23.6372, 1.4, 26.198400000000003, 2.0, 516.0424, 'red_bull']}\n"
     ]
    }
   ],
   "source": [
    "#Thêm feature constructor\n",
    "required_length = 54\n",
    "for j in range(len(list_result_point[4])):\n",
    "    if(len( Total_data[list_result_point[4][j][0]])!=required_length):\n",
    "        Total_data[list_result_point[4][j][0]].append(list_result_point[4][j][3])\n",
    "for key, values in Total_data.items():\n",
    "    if(len(values)<required_length):\n",
    "        Total_data[key].append(\"None\")\n",
    "print(Total_data)  "
   ]
  },
  {
   "cell_type": "code",
   "execution_count": null,
   "metadata": {},
   "outputs": [],
   "source": [
    "#Tạo label cho mỗi feature\n",
    "column=[]\n",
    "for season in range(2020,2025):\n",
    "    column.append(f\"Score_season_{season}\")\n",
    "for round in range(1,17):\n",
    "    column.append(f\"Score_round_{round}\")\n",
    "for round in range(1,17):\n",
    "    column.append(f\"Stop_times_round_{round}\")\n",
    "    column.append(f\"duration_round_{round}\")\n",
    "column.append(\"Contructor\")"
   ]
  },
  {
   "cell_type": "code",
   "execution_count": 47,
   "metadata": {},
   "outputs": [
    {
     "name": "stdout",
     "output_type": "stream",
     "text": [
      "          Driver Name  Score_season_2020  Score_season_2021  \\\n",
      "0              aitken                0.0               74.0   \n",
      "1            hamilton              347.0              387.5   \n",
      "2              alonso               62.0               81.0   \n",
      "3                zhou               62.0               74.0   \n",
      "4              kubica               62.0                0.0   \n",
      "5             piastri               62.0               74.0   \n",
      "6              vettel               33.0               43.0   \n",
      "7               gasly               75.0              110.0   \n",
      "8              stroll               75.0               34.0   \n",
      "9          hulkenberg               10.0               74.0   \n",
      "10              kvyat               32.0               74.0   \n",
      "11         giovinazzi                4.0                3.0   \n",
      "12            mazepin               62.0                0.0   \n",
      "13            tsunoda               62.0               32.0   \n",
      "14               ocon               62.0               74.0   \n",
      "15    kevin_magnussen                1.0               74.0   \n",
      "16              sainz              105.0              164.5   \n",
      "17  pietro_fittipaldi                0.0               74.0   \n",
      "18             norris               97.0              160.0   \n",
      "19             latifi                0.0                7.0   \n",
      "20            leclerc               98.0              159.0   \n",
      "21            bearman               62.0               74.0   \n",
      "22           grosjean                2.0               74.0   \n",
      "23           sargeant               62.0               74.0   \n",
      "24    mick_schumacher               62.0                0.0   \n",
      "25     max_verstappen              214.0              395.5   \n",
      "26          colapinto               62.0               74.0   \n",
      "27             bottas              223.0              226.0   \n",
      "28           de_vries               62.0               74.0   \n",
      "29              albon              105.0               74.0   \n",
      "30          raikkonen                4.0               10.0   \n",
      "31             lawson               62.0               74.0   \n",
      "32          ricciardo              119.0              115.0   \n",
      "33            russell                3.0               16.0   \n",
      "34              perez              125.0              190.0   \n",
      "\n",
      "    Score_season_2022  Score_season_2023  Score_season_2024  Score_round_1  \\\n",
      "0                37.0               60.0               26.0            NaN   \n",
      "1               240.0              234.0              208.0      13.600000   \n",
      "2                81.0              206.0               62.0       4.750000   \n",
      "3                 6.0                6.0                0.0       0.333333   \n",
      "4                37.0               60.0               26.0            NaN   \n",
      "5                37.0               97.0              268.0       2.000000   \n",
      "6                37.0               60.0               26.0       0.500000   \n",
      "7                23.0               62.0               26.0       1.600000   \n",
      "8                18.0               74.0               24.0       2.000000   \n",
      "9                 0.0                9.0               35.0       0.000000   \n",
      "10               37.0               60.0               26.0       0.000000   \n",
      "11               37.0               60.0               26.0       1.000000   \n",
      "12               37.0               60.0               26.0       0.000000   \n",
      "13               12.0               17.0               30.0       1.500000   \n",
      "14               92.0               58.0               23.0       2.000000   \n",
      "15               25.0                3.0               14.0       2.500000   \n",
      "16              246.0              200.0              259.0      11.800000   \n",
      "17               37.0               60.0               26.0            NaN   \n",
      "18              122.0              205.0              340.0       7.200000   \n",
      "19                2.0               60.0               26.0       0.000000   \n",
      "20              308.0              206.0              319.0      12.800000   \n",
      "21               37.0               60.0                7.0            NaN   \n",
      "22               37.0               60.0               26.0       0.000000   \n",
      "23               37.0                1.0                0.0       0.000000   \n",
      "24               12.0               60.0               26.0       0.000000   \n",
      "25              454.0              575.0              403.0      13.800000   \n",
      "26               37.0               60.0                5.0            NaN   \n",
      "27               49.0               10.0                0.0      10.600000   \n",
      "28                2.0                0.0               26.0       0.000000   \n",
      "29                4.0               27.0               12.0       0.250000   \n",
      "30               37.0               60.0               26.0       0.000000   \n",
      "31               37.0                2.0                4.0            NaN   \n",
      "32               37.0                6.0               12.0       1.500000   \n",
      "33              275.0              175.0              217.0       5.600000   \n",
      "34              305.0              285.0              152.0      10.800000   \n",
      "\n",
      "    Score_round_2  Score_round_3  Score_round_4  ...  duration_round_12  \\\n",
      "0             NaN            NaN            NaN  ...                NaN   \n",
      "1       11.400000      16.200000      12.000000  ...          29.353000   \n",
      "2        6.500000       5.750000       5.000000  ...          29.650000   \n",
      "3        0.000000       0.666667       0.000000  ...          34.653333   \n",
      "4             NaN            NaN            NaN  ...                NaN   \n",
      "5        6.000000       8.000000       2.000000  ...          29.541000   \n",
      "6        0.000000       2.666667       1.666667  ...          31.668500   \n",
      "7        2.400000       0.600000       1.400000  ...          29.612333   \n",
      "8        2.000000       6.400000       1.800000  ...          32.936750   \n",
      "9        0.333333       4.000000       0.000000  ...          27.325000   \n",
      "10       1.000000       0.000000       0.000000  ...          32.943000   \n",
      "11       0.000000       0.000000       0.000000  ...          26.473000   \n",
      "12       0.000000       0.000000       0.000000  ...                NaN   \n",
      "13       0.000000       1.750000       2.000000  ...          30.128333   \n",
      "14       2.800000       2.400000       2.000000  ...          31.477500   \n",
      "15       0.750000       0.500000       0.500000  ...          29.289750   \n",
      "16       9.000000       5.400000       6.200000  ...          30.523250   \n",
      "17            NaN            NaN            NaN  ...                NaN   \n",
      "18       7.000000       8.600000       8.200000  ...          29.423500   \n",
      "19       0.000000       0.000000       0.000000  ...          31.840500   \n",
      "20      10.600000      10.600000      12.400000  ...          26.465667   \n",
      "21       6.000000            NaN            NaN  ...                NaN   \n",
      "22       0.000000       0.000000       0.000000  ...          26.985000   \n",
      "23       0.000000       0.000000       0.000000  ...          28.369500   \n",
      "24       0.000000       0.000000       0.000000  ...          37.003000   \n",
      "25      21.800000      12.200000      21.600000  ...          28.405750   \n",
      "26            NaN            NaN            NaN  ...                NaN   \n",
      "27       3.600000       7.000000       5.000000  ...          29.586250   \n",
      "28       0.000000       0.000000       0.000000  ...                NaN   \n",
      "29       3.000000       2.750000       1.000000  ...          30.400000   \n",
      "30       0.000000       0.000000       0.000000  ...          29.061000   \n",
      "31            NaN            NaN            NaN  ...                NaN   \n",
      "32       3.000000       3.500000       5.000000  ...          29.106500   \n",
      "33       6.000000       3.000000       4.600000  ...          31.787500   \n",
      "34      12.600000      11.400000      17.750000  ...          30.173250   \n",
      "\n",
      "    Stop_times_round_13  duration_round_13  Stop_times_round_14  \\\n",
      "0                   NaN                NaN                  NaN   \n",
      "1              2.000000          22.741200             1.250000   \n",
      "2              1.500000          20.752500             1.250000   \n",
      "3              1.666667          21.578333             2.000000   \n",
      "4              1.000000          19.708000             1.000000   \n",
      "5              1.000000          21.641000             1.500000   \n",
      "6              1.666667          23.339000             1.666667   \n",
      "7              1.250000          20.440250             2.000000   \n",
      "8              1.600000          24.248600             1.200000   \n",
      "9              2.000000          22.472000             2.000000   \n",
      "10             2.000000          29.809000             1.000000   \n",
      "11             1.500000          24.894000             1.500000   \n",
      "12             1.000000          19.999000             3.000000   \n",
      "13             1.500000          20.559250             1.000000   \n",
      "14             1.400000          22.923800             1.200000   \n",
      "15             1.750000          24.146500             1.750000   \n",
      "16             1.400000          22.985400             1.600000   \n",
      "17                  NaN                NaN                  NaN   \n",
      "18             1.400000          23.293800             1.400000   \n",
      "19             1.333333          24.330000             1.333333   \n",
      "20             1.600000          24.126000             1.600000   \n",
      "21                  NaN                NaN                  NaN   \n",
      "22             2.000000          31.199000             1.000000   \n",
      "23             2.000000          21.398000             1.500000   \n",
      "24             2.000000          23.572000             1.000000   \n",
      "25             1.600000          22.124600             1.400000   \n",
      "26                  NaN                NaN                  NaN   \n",
      "27             1.500000          24.069250             1.000000   \n",
      "28                  NaN                NaN                  NaN   \n",
      "29             2.333333          25.753333             1.750000   \n",
      "30             1.000000          29.863000             2.000000   \n",
      "31             2.000000          30.836000             2.000000   \n",
      "32             1.250000          23.147250             1.500000   \n",
      "33             1.600000          23.700000             1.200000   \n",
      "34             1.800000          22.226400             1.400000   \n",
      "\n",
      "    duration_round_14  Stop_times_round_15  duration_round_15  \\\n",
      "0                 NaN                  NaN                NaN   \n",
      "1            24.10950             1.800000          25.551800   \n",
      "2            24.15600             1.250000          30.947750   \n",
      "3            24.66150             2.000000          26.038000   \n",
      "4            24.50100                  NaN                NaN   \n",
      "5            27.21100             1.000000          25.169000   \n",
      "6            24.85000             1.333333         401.813333   \n",
      "7            23.34000             1.200000         252.594200   \n",
      "8            24.12040             1.500000         309.711500   \n",
      "9            23.79800             1.000000          28.558000   \n",
      "10           23.41700             2.000000          37.317000   \n",
      "11           27.99150             1.000000         592.493500   \n",
      "12           30.91700             2.000000          33.931000   \n",
      "13           26.75350             1.666667          23.544667   \n",
      "14           24.98680             1.200000          24.840400   \n",
      "15           56.43600             1.750000          29.122000   \n",
      "16           23.76840             1.200000         253.602400   \n",
      "17                NaN                  NaN                NaN   \n",
      "18           23.34980             1.200000          24.965400   \n",
      "19           24.35800             1.333333         402.928000   \n",
      "20           23.73880             1.000000         251.782600   \n",
      "21                NaN                  NaN                NaN   \n",
      "22           26.68600                  NaN                NaN   \n",
      "23           24.23550             1.500000          26.524000   \n",
      "24           24.43600             1.500000          25.905000   \n",
      "25           25.00540             1.400000          25.151200   \n",
      "26                NaN                  NaN                NaN   \n",
      "27           23.87775             1.800000          25.462800   \n",
      "28                NaN                  NaN                NaN   \n",
      "29           23.64725             1.750000          23.575000   \n",
      "30           31.35600             2.000000          31.204500   \n",
      "31           24.28100             1.000000          32.348000   \n",
      "32           23.10825             1.750000          24.035500   \n",
      "33           23.34520             1.600000         253.187000   \n",
      "34           23.63720             1.400000          26.198400   \n",
      "\n",
      "    Stop_times_round_16  duration_round_16    Contructor  \n",
      "0              2.000000          25.688000          None  \n",
      "1              1.250000          23.990500      mercedes  \n",
      "2              1.666667          25.970333  aston_martin  \n",
      "3              1.333333          25.531667        sauber  \n",
      "4                   NaN                NaN          None  \n",
      "5              1.500000          24.562500       mclaren  \n",
      "6              2.000000          25.797000          None  \n",
      "7              1.400000          25.590800        alpine  \n",
      "8              1.400000          26.631400  aston_martin  \n",
      "9              2.000000          30.118000          haas  \n",
      "10             2.000000          24.232000          None  \n",
      "11             1.500000          23.850500          None  \n",
      "12             1.000000          23.829000          None  \n",
      "13             1.333333          23.392333            rb  \n",
      "14             1.000000          24.988000        alpine  \n",
      "15             1.500000          24.950000          haas  \n",
      "16             1.400000          25.023800       ferrari  \n",
      "17             2.000000          26.393000          None  \n",
      "18             1.600000          24.132200       mclaren  \n",
      "19             1.333333          24.221333          None  \n",
      "20             1.500000          23.778250       ferrari  \n",
      "21                  NaN                NaN       ferrari  \n",
      "22                  NaN                NaN          None  \n",
      "23             3.000000          35.182000      williams  \n",
      "24             1.000000          24.354500          None  \n",
      "25             1.500000          23.766250      red_bull  \n",
      "26             1.000000          25.147000      williams  \n",
      "27             1.200000          30.038800        sauber  \n",
      "28             1.000000          24.628000          None  \n",
      "29             1.333333          33.613333      williams  \n",
      "30             1.500000          23.782500          None  \n",
      "31             2.000000          23.671000          None  \n",
      "32             1.250000          25.801000            rb  \n",
      "33             1.400000          24.540800      mercedes  \n",
      "34             2.000000         516.042400      red_bull  \n",
      "\n",
      "[35 rows x 55 columns]\n"
     ]
    }
   ],
   "source": [
    "Table_feature=pd.DataFrame.from_dict(Total_data,orient=\"index\",columns=column)\n",
    "Table_feature.reset_index(inplace=True)\n",
    "Table_feature.rename(columns={\"index\": \"Driver Name\"}, inplace=True)\n",
    "print(Table_feature)\n",
    "Table_feature.to_csv(\"CLEAN_DATA/Features.csv\",index=False, encoding='utf-8')\n"
   ]
  }
 ],
 "metadata": {
  "kernelspec": {
   "display_name": "base",
   "language": "python",
   "name": "python3"
  },
  "language_info": {
   "codemirror_mode": {
    "name": "ipython",
    "version": 3
   },
   "file_extension": ".py",
   "mimetype": "text/x-python",
   "name": "python",
   "nbconvert_exporter": "python",
   "pygments_lexer": "ipython3",
   "version": "3.12.2"
  }
 },
 "nbformat": 4,
 "nbformat_minor": 2
}
